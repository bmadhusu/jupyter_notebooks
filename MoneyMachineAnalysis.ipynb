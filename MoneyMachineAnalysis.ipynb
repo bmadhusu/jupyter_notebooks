{
 "cells": [
  {
   "cell_type": "code",
   "execution_count": 2,
   "id": "a5678858",
   "metadata": {},
   "outputs": [],
   "source": [
    "import numpy as np\n",
    "import numpy_financial as npf\n",
    "import matplotlib.pyplot as plt\n",
    "import pandas as pd\n",
    "import datetime as datetime\n",
    "import matplotlib.dates as mdates\n",
    "import requests\n",
    "import money_machine as mm"
   ]
  },
  {
   "cell_type": "code",
   "execution_count": 3,
   "id": "22f596c1",
   "metadata": {},
   "outputs": [],
   "source": [
    "%load_ext autoreload\n",
    "%autoreload 2"
   ]
  },
  {
   "cell_type": "code",
   "execution_count": 4,
   "id": "2e194680",
   "metadata": {},
   "outputs": [],
   "source": [
    "sp500_df, shiller_data = mm.get_datasets()"
   ]
  },
  {
   "cell_type": "code",
   "execution_count": 5,
   "id": "f432a9de",
   "metadata": {},
   "outputs": [
    {
     "data": {
      "text/plain": [
       "28.31"
      ]
     },
     "execution_count": 5,
     "metadata": {},
     "output_type": "execute_result"
    }
   ],
   "source": [
    "sp500_df.loc['3-2000','PE']"
   ]
  },
  {
   "cell_type": "code",
   "execution_count": 5,
   "id": "3d308cc4",
   "metadata": {},
   "outputs": [
    {
     "ename": "AttributeError",
     "evalue": "module 'money_machine' has no attribute 'calcJBW'",
     "output_type": "error",
     "traceback": [
      "\u001b[0;31m---------------------------------------------------------------------------\u001b[0m",
      "\u001b[0;31mAttributeError\u001b[0m                            Traceback (most recent call last)",
      "Cell \u001b[0;32mIn[5], line 1\u001b[0m\n\u001b[0;32m----> 1\u001b[0m \u001b[43mmm\u001b[49m\u001b[38;5;241;43m.\u001b[39;49m\u001b[43mcalcJBW\u001b[49m(sp500_df,\u001b[38;5;241m3\u001b[39m,\u001b[38;5;241m2000\u001b[39m)\n",
      "\u001b[0;31mAttributeError\u001b[0m: module 'money_machine' has no attribute 'calcJBW'"
     ]
    }
   ],
   "source": [
    "mm.calcJBW(sp500_df,3,2000)\n",
    "# mm.calcJBW(sp500_df,7,2023)"
   ]
  },
  {
   "cell_type": "code",
   "execution_count": 205,
   "id": "d2074d63",
   "metadata": {},
   "outputs": [],
   "source": [
    "# tracker_df = pd.DataFrame({'Month':[1,2,3,4,5,6,7],\n",
    "#                            'Year':[2023,2023,2023,2023,2023,2023,2023]})\n",
    "\n",
    "# tracker_df = pd.DataFrame({'Month':[6,7,8,9,10,11,12],\n",
    "#                            'Year':[2022,2022,2022,2022,2022,2022,2022]})\n",
    "\n",
    "# FINANCIAL CRISIS OF 2007-08\n",
    "# tracker_df = pd.DataFrame({'Month':[6,7,8,9,10,11,12],\n",
    "#                            'Year':[2008,2008,2008,2008,2008,2008,2008]})\n",
    "\n",
    "tracker_df = pd.DataFrame({'Month':[1,2,3,4,5,6,7,8,9,10,11,12,1,2,3,4,5,6,7,8,9,10,11,12,1,2,3,4],\n",
    "                           'Year':[2007,2007,2007,2007,2007,2007,2007,2007,2007,2007,2007,2007,2008,2008,2008,2008,2008,2008,2008,2008,2008,2008,2008,2008,2009,2009,2009,2009]})"
   ]
  },
  {
   "cell_type": "code",
   "execution_count": 206,
   "id": "18c03db8",
   "metadata": {},
   "outputs": [],
   "source": [
    "tracker_df['JBW'] = tracker_df.apply(lambda x: mm.calcJBW(sp500_df,x.Month, x.Year), axis=1)\n",
    "# df['col_3'] = df.apply(lambda x: f(x.col_1, x.col_2), axis=1)\n"
   ]
  },
  {
   "cell_type": "code",
   "execution_count": 207,
   "id": "d97ddc5b",
   "metadata": {},
   "outputs": [],
   "source": [
    "pd.set_option('display.max_columns', None)\n",
    "pd.set_option('max_colwidth', None)"
   ]
  },
  {
   "cell_type": "code",
   "execution_count": 208,
   "id": "9d09b1c2",
   "metadata": {
    "scrolled": true
   },
   "outputs": [
    {
     "data": {
      "text/html": [
       "<div>\n",
       "<style scoped>\n",
       "    .dataframe tbody tr th:only-of-type {\n",
       "        vertical-align: middle;\n",
       "    }\n",
       "\n",
       "    .dataframe tbody tr th {\n",
       "        vertical-align: top;\n",
       "    }\n",
       "\n",
       "    .dataframe thead th {\n",
       "        text-align: right;\n",
       "    }\n",
       "</style>\n",
       "<table border=\"1\" class=\"dataframe\">\n",
       "  <thead>\n",
       "    <tr style=\"text-align: right;\">\n",
       "      <th></th>\n",
       "      <th>Month</th>\n",
       "      <th>Year</th>\n",
       "      <th>JBW</th>\n",
       "    </tr>\n",
       "  </thead>\n",
       "  <tbody>\n",
       "    <tr>\n",
       "      <th>0</th>\n",
       "      <td>1</td>\n",
       "      <td>2007</td>\n",
       "      <td>Growth 0.0676 is larger than TsyYield of 0.0476; Diff is 0.0200; May be OK to enter market!</td>\n",
       "    </tr>\n",
       "    <tr>\n",
       "      <th>1</th>\n",
       "      <td>2</td>\n",
       "      <td>2007</td>\n",
       "      <td>Growth 0.0675 is larger than TsyYield of 0.0472; Diff is 0.0203; May be OK to enter market!</td>\n",
       "    </tr>\n",
       "    <tr>\n",
       "      <th>2</th>\n",
       "      <td>3</td>\n",
       "      <td>2007</td>\n",
       "      <td>Growth 0.0681 is larger than TsyYield of 0.0456; Diff is 0.0225; May be OK to enter market!</td>\n",
       "    </tr>\n",
       "    <tr>\n",
       "      <th>3</th>\n",
       "      <td>4</td>\n",
       "      <td>2007</td>\n",
       "      <td>Growth 0.0676 is larger than TsyYield of 0.0469; Diff is 0.0207; May be OK to enter market!</td>\n",
       "    </tr>\n",
       "    <tr>\n",
       "      <th>4</th>\n",
       "      <td>5</td>\n",
       "      <td>2007</td>\n",
       "      <td>Growth 0.0672 is larger than TsyYield of 0.0475; Diff is 0.0197; May be OK to enter market!</td>\n",
       "    </tr>\n",
       "    <tr>\n",
       "      <th>5</th>\n",
       "      <td>6</td>\n",
       "      <td>2007</td>\n",
       "      <td>Growth 0.0673 is larger than TsyYield of 0.0510; Diff is 0.0163; May be OK to enter market!</td>\n",
       "    </tr>\n",
       "    <tr>\n",
       "      <th>6</th>\n",
       "      <td>7</td>\n",
       "      <td>2007</td>\n",
       "      <td>Growth 0.0674 is larger than TsyYield of 0.0500; Diff is 0.0174; May be OK to enter market!</td>\n",
       "    </tr>\n",
       "    <tr>\n",
       "      <th>7</th>\n",
       "      <td>8</td>\n",
       "      <td>2007</td>\n",
       "      <td>Growth 0.0684 is larger than TsyYield of 0.0467; Diff is 0.0217; May be OK to enter market!</td>\n",
       "    </tr>\n",
       "    <tr>\n",
       "      <th>8</th>\n",
       "      <td>9</td>\n",
       "      <td>2007</td>\n",
       "      <td>Growth 0.0680 is larger than TsyYield of 0.0452; Diff is 0.0228; May be OK to enter market!</td>\n",
       "    </tr>\n",
       "    <tr>\n",
       "      <th>9</th>\n",
       "      <td>10</td>\n",
       "      <td>2007</td>\n",
       "      <td>Growth 0.0677 is larger than TsyYield of 0.0453; Diff is 0.0224; May be OK to enter market!</td>\n",
       "    </tr>\n",
       "    <tr>\n",
       "      <th>10</th>\n",
       "      <td>11</td>\n",
       "      <td>2007</td>\n",
       "      <td>Growth 0.0688 is larger than TsyYield of 0.0415; Diff is 0.0273; May be OK to enter market!</td>\n",
       "    </tr>\n",
       "    <tr>\n",
       "      <th>11</th>\n",
       "      <td>12</td>\n",
       "      <td>2007</td>\n",
       "      <td>Growth 0.0687 is larger than TsyYield of 0.0410; Diff is 0.0277; May be OK to enter market!</td>\n",
       "    </tr>\n",
       "    <tr>\n",
       "      <th>12</th>\n",
       "      <td>1</td>\n",
       "      <td>2008</td>\n",
       "      <td>Growth 0.0703 is larger than TsyYield of 0.0374; Diff is 0.0329; May be OK to enter market!</td>\n",
       "    </tr>\n",
       "    <tr>\n",
       "      <th>13</th>\n",
       "      <td>2</td>\n",
       "      <td>2008</td>\n",
       "      <td>Growth 0.0707 is larger than TsyYield of 0.0374; Diff is 0.0333; May be OK to enter market!</td>\n",
       "    </tr>\n",
       "    <tr>\n",
       "      <th>14</th>\n",
       "      <td>3</td>\n",
       "      <td>2008</td>\n",
       "      <td>Growth 0.0715 is larger than TsyYield of 0.0351; Diff is 0.0364; May be OK to enter market!</td>\n",
       "    </tr>\n",
       "    <tr>\n",
       "      <th>15</th>\n",
       "      <td>4</td>\n",
       "      <td>2008</td>\n",
       "      <td>Growth 0.0708 is larger than TsyYield of 0.0367; Diff is 0.0341; May be OK to enter market!</td>\n",
       "    </tr>\n",
       "    <tr>\n",
       "      <th>16</th>\n",
       "      <td>5</td>\n",
       "      <td>2008</td>\n",
       "      <td>Growth 0.0704 is larger than TsyYield of 0.0388; Diff is 0.0316; May be OK to enter market!</td>\n",
       "    </tr>\n",
       "    <tr>\n",
       "      <th>17</th>\n",
       "      <td>6</td>\n",
       "      <td>2008</td>\n",
       "      <td>Growth 0.0714 is larger than TsyYield of 0.0410; Diff is 0.0304; May be OK to enter market!</td>\n",
       "    </tr>\n",
       "    <tr>\n",
       "      <th>18</th>\n",
       "      <td>7</td>\n",
       "      <td>2008</td>\n",
       "      <td>Growth 0.0729 is larger than TsyYield of 0.0401; Diff is 0.0328; May be OK to enter market!</td>\n",
       "    </tr>\n",
       "    <tr>\n",
       "      <th>19</th>\n",
       "      <td>8</td>\n",
       "      <td>2008</td>\n",
       "      <td>Growth 0.0725 is larger than TsyYield of 0.0389; Diff is 0.0336; May be OK to enter market!</td>\n",
       "    </tr>\n",
       "    <tr>\n",
       "      <th>20</th>\n",
       "      <td>9</td>\n",
       "      <td>2008</td>\n",
       "      <td>Growth 0.0737 is larger than TsyYield of 0.0369; Diff is 0.0368; May be OK to enter market!</td>\n",
       "    </tr>\n",
       "    <tr>\n",
       "      <th>21</th>\n",
       "      <td>10</td>\n",
       "      <td>2008</td>\n",
       "      <td>Growth 0.0796 is larger than TsyYield of 0.0381; Diff is 0.0415; May be OK to enter market!</td>\n",
       "    </tr>\n",
       "    <tr>\n",
       "      <th>22</th>\n",
       "      <td>11</td>\n",
       "      <td>2008</td>\n",
       "      <td>Growth 0.0823 is larger than TsyYield of 0.0353; Diff is 0.0470; May be OK to enter market!</td>\n",
       "    </tr>\n",
       "    <tr>\n",
       "      <th>23</th>\n",
       "      <td>12</td>\n",
       "      <td>2008</td>\n",
       "      <td>Growth 0.0823 is larger than TsyYield of 0.0242; Diff is 0.0581; May be OK to enter market!</td>\n",
       "    </tr>\n",
       "    <tr>\n",
       "      <th>24</th>\n",
       "      <td>1</td>\n",
       "      <td>2009</td>\n",
       "      <td>Growth 0.0824 is larger than TsyYield of 0.0252; Diff is 0.0572; May be OK to enter market!</td>\n",
       "    </tr>\n",
       "    <tr>\n",
       "      <th>25</th>\n",
       "      <td>2</td>\n",
       "      <td>2009</td>\n",
       "      <td>Growth 0.0843 is larger than TsyYield of 0.0287; Diff is 0.0556; May be OK to enter market!</td>\n",
       "    </tr>\n",
       "    <tr>\n",
       "      <th>26</th>\n",
       "      <td>3</td>\n",
       "      <td>2009</td>\n",
       "      <td>Growth 0.0860 is larger than TsyYield of 0.0282; Diff is 0.0578; May be OK to enter market!</td>\n",
       "    </tr>\n",
       "    <tr>\n",
       "      <th>27</th>\n",
       "      <td>4</td>\n",
       "      <td>2009</td>\n",
       "      <td>Growth 0.0815 is larger than TsyYield of 0.0293; Diff is 0.0522; May be OK to enter market!</td>\n",
       "    </tr>\n",
       "  </tbody>\n",
       "</table>\n",
       "</div>"
      ],
      "text/plain": [
       "    Month  Year  \\\n",
       "0       1  2007   \n",
       "1       2  2007   \n",
       "2       3  2007   \n",
       "3       4  2007   \n",
       "4       5  2007   \n",
       "5       6  2007   \n",
       "6       7  2007   \n",
       "7       8  2007   \n",
       "8       9  2007   \n",
       "9      10  2007   \n",
       "10     11  2007   \n",
       "11     12  2007   \n",
       "12      1  2008   \n",
       "13      2  2008   \n",
       "14      3  2008   \n",
       "15      4  2008   \n",
       "16      5  2008   \n",
       "17      6  2008   \n",
       "18      7  2008   \n",
       "19      8  2008   \n",
       "20      9  2008   \n",
       "21     10  2008   \n",
       "22     11  2008   \n",
       "23     12  2008   \n",
       "24      1  2009   \n",
       "25      2  2009   \n",
       "26      3  2009   \n",
       "27      4  2009   \n",
       "\n",
       "                                                                                            JBW  \n",
       "0   Growth 0.0676 is larger than TsyYield of 0.0476; Diff is 0.0200; May be OK to enter market!  \n",
       "1   Growth 0.0675 is larger than TsyYield of 0.0472; Diff is 0.0203; May be OK to enter market!  \n",
       "2   Growth 0.0681 is larger than TsyYield of 0.0456; Diff is 0.0225; May be OK to enter market!  \n",
       "3   Growth 0.0676 is larger than TsyYield of 0.0469; Diff is 0.0207; May be OK to enter market!  \n",
       "4   Growth 0.0672 is larger than TsyYield of 0.0475; Diff is 0.0197; May be OK to enter market!  \n",
       "5   Growth 0.0673 is larger than TsyYield of 0.0510; Diff is 0.0163; May be OK to enter market!  \n",
       "6   Growth 0.0674 is larger than TsyYield of 0.0500; Diff is 0.0174; May be OK to enter market!  \n",
       "7   Growth 0.0684 is larger than TsyYield of 0.0467; Diff is 0.0217; May be OK to enter market!  \n",
       "8   Growth 0.0680 is larger than TsyYield of 0.0452; Diff is 0.0228; May be OK to enter market!  \n",
       "9   Growth 0.0677 is larger than TsyYield of 0.0453; Diff is 0.0224; May be OK to enter market!  \n",
       "10  Growth 0.0688 is larger than TsyYield of 0.0415; Diff is 0.0273; May be OK to enter market!  \n",
       "11  Growth 0.0687 is larger than TsyYield of 0.0410; Diff is 0.0277; May be OK to enter market!  \n",
       "12  Growth 0.0703 is larger than TsyYield of 0.0374; Diff is 0.0329; May be OK to enter market!  \n",
       "13  Growth 0.0707 is larger than TsyYield of 0.0374; Diff is 0.0333; May be OK to enter market!  \n",
       "14  Growth 0.0715 is larger than TsyYield of 0.0351; Diff is 0.0364; May be OK to enter market!  \n",
       "15  Growth 0.0708 is larger than TsyYield of 0.0367; Diff is 0.0341; May be OK to enter market!  \n",
       "16  Growth 0.0704 is larger than TsyYield of 0.0388; Diff is 0.0316; May be OK to enter market!  \n",
       "17  Growth 0.0714 is larger than TsyYield of 0.0410; Diff is 0.0304; May be OK to enter market!  \n",
       "18  Growth 0.0729 is larger than TsyYield of 0.0401; Diff is 0.0328; May be OK to enter market!  \n",
       "19  Growth 0.0725 is larger than TsyYield of 0.0389; Diff is 0.0336; May be OK to enter market!  \n",
       "20  Growth 0.0737 is larger than TsyYield of 0.0369; Diff is 0.0368; May be OK to enter market!  \n",
       "21  Growth 0.0796 is larger than TsyYield of 0.0381; Diff is 0.0415; May be OK to enter market!  \n",
       "22  Growth 0.0823 is larger than TsyYield of 0.0353; Diff is 0.0470; May be OK to enter market!  \n",
       "23  Growth 0.0823 is larger than TsyYield of 0.0242; Diff is 0.0581; May be OK to enter market!  \n",
       "24  Growth 0.0824 is larger than TsyYield of 0.0252; Diff is 0.0572; May be OK to enter market!  \n",
       "25  Growth 0.0843 is larger than TsyYield of 0.0287; Diff is 0.0556; May be OK to enter market!  \n",
       "26  Growth 0.0860 is larger than TsyYield of 0.0282; Diff is 0.0578; May be OK to enter market!  \n",
       "27  Growth 0.0815 is larger than TsyYield of 0.0293; Diff is 0.0522; May be OK to enter market!  "
      ]
     },
     "execution_count": 208,
     "metadata": {},
     "output_type": "execute_result"
    }
   ],
   "source": [
    "tracker_df"
   ]
  },
  {
   "cell_type": "code",
   "execution_count": 227,
   "id": "b735de88",
   "metadata": {},
   "outputs": [
    {
     "name": "stdout",
     "output_type": "stream",
     "text": [
      "PE on 3-2000 is: 28.31\n"
     ]
    }
   ],
   "source": [
    "jj = mm.calcBogle(sp500_df,3,2000,['Pessimistic','Historical','Optimistic','Delirious'],[10,15,35,60])"
   ]
  },
  {
   "cell_type": "code",
   "execution_count": 99,
   "id": "51d07013",
   "metadata": {},
   "outputs": [
    {
     "name": "stdout",
     "output_type": "stream",
     "text": [
      "PE on 8-2016 is: 24.57\n"
     ]
    },
    {
     "data": {
      "text/html": [
       "<div>\n",
       "<style scoped>\n",
       "    .dataframe tbody tr th:only-of-type {\n",
       "        vertical-align: middle;\n",
       "    }\n",
       "\n",
       "    .dataframe tbody tr th {\n",
       "        vertical-align: top;\n",
       "    }\n",
       "\n",
       "    .dataframe thead th {\n",
       "        text-align: right;\n",
       "    }\n",
       "</style>\n",
       "<table border=\"1\" class=\"dataframe\">\n",
       "  <thead>\n",
       "    <tr style=\"text-align: right;\">\n",
       "      <th></th>\n",
       "      <th>Scenario</th>\n",
       "      <th>PE in 10 years</th>\n",
       "      <th>PE Growth</th>\n",
       "      <th>TotalReturn</th>\n",
       "      <th>TsyYield</th>\n",
       "      <th>TotReturn - TsyYield</th>\n",
       "    </tr>\n",
       "  </thead>\n",
       "  <tbody>\n",
       "    <tr>\n",
       "      <th>0</th>\n",
       "      <td>Historical</td>\n",
       "      <td>15</td>\n",
       "      <td>-0.048150</td>\n",
       "      <td>0.022550</td>\n",
       "      <td>0.0156</td>\n",
       "      <td>0.006950</td>\n",
       "    </tr>\n",
       "    <tr>\n",
       "      <th>1</th>\n",
       "      <td>Small Drop</td>\n",
       "      <td>20</td>\n",
       "      <td>-0.020369</td>\n",
       "      <td>0.050331</td>\n",
       "      <td>0.0156</td>\n",
       "      <td>0.034731</td>\n",
       "    </tr>\n",
       "    <tr>\n",
       "      <th>2</th>\n",
       "      <td>Unchanged</td>\n",
       "      <td>24</td>\n",
       "      <td>-0.002344</td>\n",
       "      <td>0.068356</td>\n",
       "      <td>0.0156</td>\n",
       "      <td>0.052756</td>\n",
       "    </tr>\n",
       "    <tr>\n",
       "      <th>3</th>\n",
       "      <td>Optimistic</td>\n",
       "      <td>30</td>\n",
       "      <td>0.020168</td>\n",
       "      <td>0.090868</td>\n",
       "      <td>0.0156</td>\n",
       "      <td>0.075268</td>\n",
       "    </tr>\n",
       "  </tbody>\n",
       "</table>\n",
       "</div>"
      ],
      "text/plain": [
       "     Scenario  PE in 10 years  PE Growth  TotalReturn  TsyYield  \\\n",
       "0  Historical              15  -0.048150     0.022550    0.0156   \n",
       "1  Small Drop              20  -0.020369     0.050331    0.0156   \n",
       "2   Unchanged              24  -0.002344     0.068356    0.0156   \n",
       "3  Optimistic              30   0.020168     0.090868    0.0156   \n",
       "\n",
       "   TotReturn - TsyYield  \n",
       "0              0.006950  \n",
       "1              0.034731  \n",
       "2              0.052756  \n",
       "3              0.075268  "
      ]
     },
     "execution_count": 99,
     "metadata": {},
     "output_type": "execute_result"
    }
   ],
   "source": [
    "mm.calcBogle(sp500_df,8,2016,['Historical','Small Drop','Unchanged','Optimistic'],[15,20,24,30])"
   ]
  },
  {
   "cell_type": "code",
   "execution_count": 244,
   "id": "6f2e8aa2",
   "metadata": {},
   "outputs": [
    {
     "name": "stdout",
     "output_type": "stream",
     "text": [
      "PE on 6-2023 is: 25.15\n"
     ]
    },
    {
     "data": {
      "text/html": [
       "<div>\n",
       "<style scoped>\n",
       "    .dataframe tbody tr th:only-of-type {\n",
       "        vertical-align: middle;\n",
       "    }\n",
       "\n",
       "    .dataframe tbody tr th {\n",
       "        vertical-align: top;\n",
       "    }\n",
       "\n",
       "    .dataframe thead th {\n",
       "        text-align: right;\n",
       "    }\n",
       "</style>\n",
       "<table border=\"1\" class=\"dataframe\">\n",
       "  <thead>\n",
       "    <tr style=\"text-align: right;\">\n",
       "      <th></th>\n",
       "      <th>Scenario</th>\n",
       "      <th>PE in 10 years</th>\n",
       "      <th>PE Growth</th>\n",
       "      <th>TotalReturn</th>\n",
       "      <th>TsyYield</th>\n",
       "      <th>TotReturn - TsyYield</th>\n",
       "    </tr>\n",
       "  </thead>\n",
       "  <tbody>\n",
       "    <tr>\n",
       "      <th>0</th>\n",
       "      <td>Historical</td>\n",
       "      <td>15</td>\n",
       "      <td>-0.050368</td>\n",
       "      <td>0.015432</td>\n",
       "      <td>0.0375</td>\n",
       "      <td>-0.022068</td>\n",
       "    </tr>\n",
       "    <tr>\n",
       "      <th>1</th>\n",
       "      <td>Small Drop</td>\n",
       "      <td>20</td>\n",
       "      <td>-0.022652</td>\n",
       "      <td>0.043148</td>\n",
       "      <td>0.0375</td>\n",
       "      <td>0.005648</td>\n",
       "    </tr>\n",
       "    <tr>\n",
       "      <th>2</th>\n",
       "      <td>Unchanged</td>\n",
       "      <td>25</td>\n",
       "      <td>-0.000598</td>\n",
       "      <td>0.065202</td>\n",
       "      <td>0.0375</td>\n",
       "      <td>0.027702</td>\n",
       "    </tr>\n",
       "    <tr>\n",
       "      <th>3</th>\n",
       "      <td>Optimistic</td>\n",
       "      <td>30</td>\n",
       "      <td>0.017790</td>\n",
       "      <td>0.083590</td>\n",
       "      <td>0.0375</td>\n",
       "      <td>0.046090</td>\n",
       "    </tr>\n",
       "  </tbody>\n",
       "</table>\n",
       "</div>"
      ],
      "text/plain": [
       "     Scenario  PE in 10 years  PE Growth  TotalReturn  TsyYield  \\\n",
       "0  Historical              15  -0.050368     0.015432    0.0375   \n",
       "1  Small Drop              20  -0.022652     0.043148    0.0375   \n",
       "2   Unchanged              25  -0.000598     0.065202    0.0375   \n",
       "3  Optimistic              30   0.017790     0.083590    0.0375   \n",
       "\n",
       "   TotReturn - TsyYield  \n",
       "0             -0.022068  \n",
       "1              0.005648  \n",
       "2              0.027702  \n",
       "3              0.046090  "
      ]
     },
     "execution_count": 244,
     "metadata": {},
     "output_type": "execute_result"
    }
   ],
   "source": [
    "mm.calcBogle(sp500_df,6,2023,['Historical','Small Drop','Unchanged','Optimistic'],[15,20,25,30])"
   ]
  },
  {
   "cell_type": "code",
   "execution_count": 13,
   "id": "a9d84572",
   "metadata": {},
   "outputs": [
    {
     "data": {
      "text/html": [
       "<div>\n",
       "<style scoped>\n",
       "    .dataframe tbody tr th:only-of-type {\n",
       "        vertical-align: middle;\n",
       "    }\n",
       "\n",
       "    .dataframe tbody tr th {\n",
       "        vertical-align: top;\n",
       "    }\n",
       "\n",
       "    .dataframe thead th {\n",
       "        text-align: right;\n",
       "    }\n",
       "</style>\n",
       "<table border=\"1\" class=\"dataframe\">\n",
       "  <thead>\n",
       "    <tr style=\"text-align: right;\">\n",
       "      <th></th>\n",
       "      <th>DivYield</th>\n",
       "      <th>Total Return</th>\n",
       "      <th>10-yr Tsy Rate</th>\n",
       "      <th>Tot Return - 10yr Tsy</th>\n",
       "    </tr>\n",
       "  </thead>\n",
       "  <tbody>\n",
       "    <tr>\n",
       "      <th>0</th>\n",
       "      <td>0.0323</td>\n",
       "      <td>0.0823</td>\n",
       "      <td>0.0242</td>\n",
       "      <td>0.0581</td>\n",
       "    </tr>\n",
       "  </tbody>\n",
       "</table>\n",
       "</div>"
      ],
      "text/plain": [
       "   DivYield  Total Return  10-yr Tsy Rate  Tot Return - 10yr Tsy\n",
       "0    0.0323        0.0823          0.0242                 0.0581"
      ]
     },
     "execution_count": 13,
     "metadata": {},
     "output_type": "execute_result"
    }
   ],
   "source": [
    "# JBW shows that nice attractive spread in Dec 2008 so good time to be in the market!\n",
    "mm.calcJBWSP500(sp500_df,12,2008)"
   ]
  },
  {
   "cell_type": "code",
   "execution_count": 245,
   "id": "ab621bd7",
   "metadata": {},
   "outputs": [
    {
     "name": "stdout",
     "output_type": "stream",
     "text": [
      "PE on 12-2008 is: 58.98\n"
     ]
    },
    {
     "data": {
      "text/html": [
       "<div>\n",
       "<style scoped>\n",
       "    .dataframe tbody tr th:only-of-type {\n",
       "        vertical-align: middle;\n",
       "    }\n",
       "\n",
       "    .dataframe tbody tr th {\n",
       "        vertical-align: top;\n",
       "    }\n",
       "\n",
       "    .dataframe thead th {\n",
       "        text-align: right;\n",
       "    }\n",
       "</style>\n",
       "<table border=\"1\" class=\"dataframe\">\n",
       "  <thead>\n",
       "    <tr style=\"text-align: right;\">\n",
       "      <th></th>\n",
       "      <th>Scenario</th>\n",
       "      <th>PE in 10 years</th>\n",
       "      <th>PE Growth</th>\n",
       "      <th>TotalReturn</th>\n",
       "      <th>TsyYield</th>\n",
       "      <th>TotReturn - TsyYield</th>\n",
       "    </tr>\n",
       "  </thead>\n",
       "  <tbody>\n",
       "    <tr>\n",
       "      <th>0</th>\n",
       "      <td>Historical</td>\n",
       "      <td>15</td>\n",
       "      <td>-0.127955</td>\n",
       "      <td>-0.045655</td>\n",
       "      <td>0.0242</td>\n",
       "      <td>-0.069855</td>\n",
       "    </tr>\n",
       "    <tr>\n",
       "      <th>1</th>\n",
       "      <td>Small Drop</td>\n",
       "      <td>20</td>\n",
       "      <td>-0.102504</td>\n",
       "      <td>-0.020204</td>\n",
       "      <td>0.0242</td>\n",
       "      <td>-0.044404</td>\n",
       "    </tr>\n",
       "    <tr>\n",
       "      <th>2</th>\n",
       "      <td>Unchanged</td>\n",
       "      <td>24</td>\n",
       "      <td>-0.085991</td>\n",
       "      <td>-0.003691</td>\n",
       "      <td>0.0242</td>\n",
       "      <td>-0.027891</td>\n",
       "    </tr>\n",
       "    <tr>\n",
       "      <th>3</th>\n",
       "      <td>Optimistic</td>\n",
       "      <td>30</td>\n",
       "      <td>-0.065366</td>\n",
       "      <td>0.016934</td>\n",
       "      <td>0.0242</td>\n",
       "      <td>-0.007266</td>\n",
       "    </tr>\n",
       "  </tbody>\n",
       "</table>\n",
       "</div>"
      ],
      "text/plain": [
       "     Scenario  PE in 10 years  PE Growth  TotalReturn  TsyYield  \\\n",
       "0  Historical              15  -0.127955    -0.045655    0.0242   \n",
       "1  Small Drop              20  -0.102504    -0.020204    0.0242   \n",
       "2   Unchanged              24  -0.085991    -0.003691    0.0242   \n",
       "3  Optimistic              30  -0.065366     0.016934    0.0242   \n",
       "\n",
       "   TotReturn - TsyYield  \n",
       "0             -0.069855  \n",
       "1             -0.044404  \n",
       "2             -0.027891  \n",
       "3             -0.007266  "
      ]
     },
     "execution_count": 245,
     "metadata": {},
     "output_type": "execute_result"
    }
   ],
   "source": [
    "# WARNING: Don't use Bogle during the Financial crisis of 2007/8 as the PEs skyrocketed\n",
    "# because investors thought issues were short-lived, so Prices remained elevated as\n",
    "# Earnings dropped\n",
    "mm.calcBogle(sp500_df,12,2008,['Historical','Small Drop','Unchanged','Optimistic'],[15,20,24,30])"
   ]
  },
  {
   "cell_type": "code",
   "execution_count": 299,
   "id": "7fa27830",
   "metadata": {},
   "outputs": [],
   "source": [
    "shiller_data = mm.get_data_from_shiller()"
   ]
  },
  {
   "cell_type": "code",
   "execution_count": 300,
   "id": "64673391",
   "metadata": {},
   "outputs": [
    {
     "data": {
      "text/html": [
       "<div>\n",
       "<style scoped>\n",
       "    .dataframe tbody tr th:only-of-type {\n",
       "        vertical-align: middle;\n",
       "    }\n",
       "\n",
       "    .dataframe tbody tr th {\n",
       "        vertical-align: top;\n",
       "    }\n",
       "\n",
       "    .dataframe thead th {\n",
       "        text-align: right;\n",
       "    }\n",
       "</style>\n",
       "<table border=\"1\" class=\"dataframe\">\n",
       "  <thead>\n",
       "    <tr style=\"text-align: right;\">\n",
       "      <th></th>\n",
       "      <th>s&amp;p comp price</th>\n",
       "      <th>s&amp;p comp div</th>\n",
       "      <th>s&amp;p comp earnings</th>\n",
       "      <th>CPI</th>\n",
       "      <th>date fraction</th>\n",
       "      <th>int rate GS10</th>\n",
       "      <th>real price</th>\n",
       "      <th>real div</th>\n",
       "      <th>real total ret price</th>\n",
       "      <th>real earnings</th>\n",
       "      <th>real tr scaled earnings</th>\n",
       "      <th>CAPE</th>\n",
       "    </tr>\n",
       "    <tr>\n",
       "      <th>date</th>\n",
       "      <th></th>\n",
       "      <th></th>\n",
       "      <th></th>\n",
       "      <th></th>\n",
       "      <th></th>\n",
       "      <th></th>\n",
       "      <th></th>\n",
       "      <th></th>\n",
       "      <th></th>\n",
       "      <th></th>\n",
       "      <th></th>\n",
       "      <th></th>\n",
       "    </tr>\n",
       "  </thead>\n",
       "  <tbody>\n",
       "    <tr>\n",
       "      <th>1871.01</th>\n",
       "      <td>4.440000</td>\n",
       "      <td>0.26</td>\n",
       "      <td>0.40</td>\n",
       "      <td>12.464061</td>\n",
       "      <td>1871.041667</td>\n",
       "      <td>5.320000</td>\n",
       "      <td>108.541508</td>\n",
       "      <td>6.356034</td>\n",
       "      <td>1.085415e+02</td>\n",
       "      <td>9.772385</td>\n",
       "      <td>9.772385</td>\n",
       "      <td>NaN</td>\n",
       "    </tr>\n",
       "    <tr>\n",
       "      <th>1871.02</th>\n",
       "      <td>4.500000</td>\n",
       "      <td>0.26</td>\n",
       "      <td>0.40</td>\n",
       "      <td>12.844641</td>\n",
       "      <td>1871.125000</td>\n",
       "      <td>5.323333</td>\n",
       "      <td>106.748796</td>\n",
       "      <td>6.167708</td>\n",
       "      <td>1.072628e+02</td>\n",
       "      <td>9.488782</td>\n",
       "      <td>9.534469</td>\n",
       "      <td>NaN</td>\n",
       "    </tr>\n",
       "    <tr>\n",
       "      <th>1871.03</th>\n",
       "      <td>4.610000</td>\n",
       "      <td>0.26</td>\n",
       "      <td>0.40</td>\n",
       "      <td>13.034972</td>\n",
       "      <td>1871.208333</td>\n",
       "      <td>5.326667</td>\n",
       "      <td>107.761414</td>\n",
       "      <td>6.077650</td>\n",
       "      <td>1.087892e+02</td>\n",
       "      <td>9.350231</td>\n",
       "      <td>9.439408</td>\n",
       "      <td>NaN</td>\n",
       "    </tr>\n",
       "    <tr>\n",
       "      <th>1871.04</th>\n",
       "      <td>4.740000</td>\n",
       "      <td>0.26</td>\n",
       "      <td>0.40</td>\n",
       "      <td>12.559226</td>\n",
       "      <td>1871.291667</td>\n",
       "      <td>5.330000</td>\n",
       "      <td>114.997369</td>\n",
       "      <td>6.307873</td>\n",
       "      <td>1.166248e+02</td>\n",
       "      <td>9.704419</td>\n",
       "      <td>9.841756</td>\n",
       "      <td>NaN</td>\n",
       "    </tr>\n",
       "    <tr>\n",
       "      <th>1871.05</th>\n",
       "      <td>4.860000</td>\n",
       "      <td>0.26</td>\n",
       "      <td>0.40</td>\n",
       "      <td>12.273812</td>\n",
       "      <td>1871.375000</td>\n",
       "      <td>5.333333</td>\n",
       "      <td>120.650541</td>\n",
       "      <td>6.454556</td>\n",
       "      <td>1.229035e+02</td>\n",
       "      <td>9.930086</td>\n",
       "      <td>10.115513</td>\n",
       "      <td>NaN</td>\n",
       "    </tr>\n",
       "    <tr>\n",
       "      <th>...</th>\n",
       "      <td>...</td>\n",
       "      <td>...</td>\n",
       "      <td>...</td>\n",
       "      <td>...</td>\n",
       "      <td>...</td>\n",
       "      <td>...</td>\n",
       "      <td>...</td>\n",
       "      <td>...</td>\n",
       "      <td>...</td>\n",
       "      <td>...</td>\n",
       "      <td>...</td>\n",
       "      <td>...</td>\n",
       "    </tr>\n",
       "    <tr>\n",
       "      <th>2023.03</th>\n",
       "      <td>3968.559130</td>\n",
       "      <td>68.21</td>\n",
       "      <td>175.17</td>\n",
       "      <td>301.675000</td>\n",
       "      <td>2023.208333</td>\n",
       "      <td>3.660000</td>\n",
       "      <td>4008.353251</td>\n",
       "      <td>68.893965</td>\n",
       "      <td>2.617940e+06</td>\n",
       "      <td>176.926490</td>\n",
       "      <td>115554.412083</td>\n",
       "      <td>27.953041</td>\n",
       "    </tr>\n",
       "    <tr>\n",
       "      <th>2023.04</th>\n",
       "      <td>4121.467368</td>\n",
       "      <td>NaN</td>\n",
       "      <td>NaN</td>\n",
       "      <td>303.363000</td>\n",
       "      <td>2023.291667</td>\n",
       "      <td>3.460000</td>\n",
       "      <td>4139.631752</td>\n",
       "      <td>NaN</td>\n",
       "      <td>2.703681e+06</td>\n",
       "      <td>NaN</td>\n",
       "      <td>NaN</td>\n",
       "      <td>28.764684</td>\n",
       "    </tr>\n",
       "    <tr>\n",
       "      <th>2023.05</th>\n",
       "      <td>4146.173182</td>\n",
       "      <td>NaN</td>\n",
       "      <td>NaN</td>\n",
       "      <td>304.127000</td>\n",
       "      <td>2023.375000</td>\n",
       "      <td>3.570000</td>\n",
       "      <td>4153.984909</td>\n",
       "      <td>NaN</td>\n",
       "      <td>2.713055e+06</td>\n",
       "      <td>NaN</td>\n",
       "      <td>NaN</td>\n",
       "      <td>28.818017</td>\n",
       "    </tr>\n",
       "    <tr>\n",
       "      <th>2023.06</th>\n",
       "      <td>4345.372857</td>\n",
       "      <td>NaN</td>\n",
       "      <td>NaN</td>\n",
       "      <td>304.509000</td>\n",
       "      <td>2023.458333</td>\n",
       "      <td>3.750000</td>\n",
       "      <td>4348.098446</td>\n",
       "      <td>NaN</td>\n",
       "      <td>2.839835e+06</td>\n",
       "      <td>NaN</td>\n",
       "      <td>NaN</td>\n",
       "      <td>30.117574</td>\n",
       "    </tr>\n",
       "    <tr>\n",
       "      <th>2023.07</th>\n",
       "      <td>4455.590000</td>\n",
       "      <td>NaN</td>\n",
       "      <td>NaN</td>\n",
       "      <td>304.700000</td>\n",
       "      <td>2023.541667</td>\n",
       "      <td>3.810000</td>\n",
       "      <td>4455.590000</td>\n",
       "      <td>NaN</td>\n",
       "      <td>2.910040e+06</td>\n",
       "      <td>NaN</td>\n",
       "      <td>NaN</td>\n",
       "      <td>30.815259</td>\n",
       "    </tr>\n",
       "  </tbody>\n",
       "</table>\n",
       "<p>1831 rows × 12 columns</p>\n",
       "</div>"
      ],
      "text/plain": [
       "         s&p comp price  s&p comp div  s&p comp earnings         CPI  \\\n",
       "date                                                                   \n",
       "1871.01        4.440000          0.26               0.40   12.464061   \n",
       "1871.02        4.500000          0.26               0.40   12.844641   \n",
       "1871.03        4.610000          0.26               0.40   13.034972   \n",
       "1871.04        4.740000          0.26               0.40   12.559226   \n",
       "1871.05        4.860000          0.26               0.40   12.273812   \n",
       "...                 ...           ...                ...         ...   \n",
       "2023.03     3968.559130         68.21             175.17  301.675000   \n",
       "2023.04     4121.467368           NaN                NaN  303.363000   \n",
       "2023.05     4146.173182           NaN                NaN  304.127000   \n",
       "2023.06     4345.372857           NaN                NaN  304.509000   \n",
       "2023.07     4455.590000           NaN                NaN  304.700000   \n",
       "\n",
       "         date fraction  int rate GS10   real price   real div  \\\n",
       "date                                                            \n",
       "1871.01    1871.041667       5.320000   108.541508   6.356034   \n",
       "1871.02    1871.125000       5.323333   106.748796   6.167708   \n",
       "1871.03    1871.208333       5.326667   107.761414   6.077650   \n",
       "1871.04    1871.291667       5.330000   114.997369   6.307873   \n",
       "1871.05    1871.375000       5.333333   120.650541   6.454556   \n",
       "...                ...            ...          ...        ...   \n",
       "2023.03    2023.208333       3.660000  4008.353251  68.893965   \n",
       "2023.04    2023.291667       3.460000  4139.631752        NaN   \n",
       "2023.05    2023.375000       3.570000  4153.984909        NaN   \n",
       "2023.06    2023.458333       3.750000  4348.098446        NaN   \n",
       "2023.07    2023.541667       3.810000  4455.590000        NaN   \n",
       "\n",
       "         real total ret price  real earnings  real tr scaled earnings  \\\n",
       "date                                                                    \n",
       "1871.01          1.085415e+02       9.772385                 9.772385   \n",
       "1871.02          1.072628e+02       9.488782                 9.534469   \n",
       "1871.03          1.087892e+02       9.350231                 9.439408   \n",
       "1871.04          1.166248e+02       9.704419                 9.841756   \n",
       "1871.05          1.229035e+02       9.930086                10.115513   \n",
       "...                       ...            ...                      ...   \n",
       "2023.03          2.617940e+06     176.926490            115554.412083   \n",
       "2023.04          2.703681e+06            NaN                      NaN   \n",
       "2023.05          2.713055e+06            NaN                      NaN   \n",
       "2023.06          2.839835e+06            NaN                      NaN   \n",
       "2023.07          2.910040e+06            NaN                      NaN   \n",
       "\n",
       "              CAPE  \n",
       "date                \n",
       "1871.01        NaN  \n",
       "1871.02        NaN  \n",
       "1871.03        NaN  \n",
       "1871.04        NaN  \n",
       "1871.05        NaN  \n",
       "...            ...  \n",
       "2023.03  27.953041  \n",
       "2023.04  28.764684  \n",
       "2023.05  28.818017  \n",
       "2023.06  30.117574  \n",
       "2023.07  30.815259  \n",
       "\n",
       "[1831 rows x 12 columns]"
      ]
     },
     "execution_count": 300,
     "metadata": {},
     "output_type": "execute_result"
    }
   ],
   "source": [
    "shiller_data"
   ]
  },
  {
   "cell_type": "code",
   "execution_count": 11,
   "id": "39520ba0",
   "metadata": {},
   "outputs": [
    {
     "name": "stdout",
     "output_type": "stream",
     "text": [
      "Using 2.5% as long run inflation rate; may not apply now!\n"
     ]
    },
    {
     "data": {
      "text/html": [
       "<div>\n",
       "<style scoped>\n",
       "    .dataframe tbody tr th:only-of-type {\n",
       "        vertical-align: middle;\n",
       "    }\n",
       "\n",
       "    .dataframe tbody tr th {\n",
       "        vertical-align: top;\n",
       "    }\n",
       "\n",
       "    .dataframe thead th {\n",
       "        text-align: right;\n",
       "    }\n",
       "</style>\n",
       "<table border=\"1\" class=\"dataframe\">\n",
       "  <thead>\n",
       "    <tr style=\"text-align: right;\">\n",
       "      <th></th>\n",
       "      <th>CAPE</th>\n",
       "      <th>CAEP</th>\n",
       "      <th>TSY RATE</th>\n",
       "      <th>REAL TSY RATE</th>\n",
       "      <th>TOT RET</th>\n",
       "    </tr>\n",
       "  </thead>\n",
       "  <tbody>\n",
       "    <tr>\n",
       "      <th>0</th>\n",
       "      <td>26.948872</td>\n",
       "      <td>3.71073</td>\n",
       "      <td>1.56</td>\n",
       "      <td>-0.94</td>\n",
       "      <td>4.65073</td>\n",
       "    </tr>\n",
       "  </tbody>\n",
       "</table>\n",
       "</div>"
      ],
      "text/plain": [
       "        CAPE     CAEP  TSY RATE  REAL TSY RATE  TOT RET\n",
       "0  26.948872  3.71073      1.56          -0.94  4.65073"
      ]
     },
     "execution_count": 11,
     "metadata": {},
     "output_type": "execute_result"
    }
   ],
   "source": [
    "mm.calcShillerCAEP(shiller_data,8,2016)"
   ]
  },
  {
   "cell_type": "markdown",
   "id": "4a85e87d",
   "metadata": {},
   "source": [
    "## AAPL Analysis"
   ]
  },
  {
   "cell_type": "code",
   "execution_count": 41,
   "id": "5d30b181",
   "metadata": {},
   "outputs": [],
   "source": [
    "aapl = mm.get_ticker('AAPL')"
   ]
  },
  {
   "cell_type": "code",
   "execution_count": 42,
   "id": "0db1de50",
   "metadata": {},
   "outputs": [
    {
     "data": {
      "text/html": [
       "<div>\n",
       "<style scoped>\n",
       "    .dataframe tbody tr th:only-of-type {\n",
       "        vertical-align: middle;\n",
       "    }\n",
       "\n",
       "    .dataframe tbody tr th {\n",
       "        vertical-align: top;\n",
       "    }\n",
       "\n",
       "    .dataframe thead th {\n",
       "        text-align: right;\n",
       "    }\n",
       "</style>\n",
       "<table border=\"1\" class=\"dataframe\">\n",
       "  <thead>\n",
       "    <tr style=\"text-align: right;\">\n",
       "      <th></th>\n",
       "      <th>DivYield</th>\n",
       "      <th>Total Return</th>\n",
       "      <th>10-yr Tsy Rate</th>\n",
       "      <th>Tot Return - 10yr Tsy</th>\n",
       "    </tr>\n",
       "  </thead>\n",
       "  <tbody>\n",
       "    <tr>\n",
       "      <th>0</th>\n",
       "      <td>0.0151</td>\n",
       "      <td>0.0651</td>\n",
       "      <td>0.0405</td>\n",
       "      <td>0.0246</td>\n",
       "    </tr>\n",
       "  </tbody>\n",
       "</table>\n",
       "</div>"
      ],
      "text/plain": [
       "   DivYield  Total Return  10-yr Tsy Rate  Tot Return - 10yr Tsy\n",
       "0    0.0151        0.0651          0.0405                 0.0246"
      ]
     },
     "execution_count": 42,
     "metadata": {},
     "output_type": "execute_result"
    }
   ],
   "source": [
    "mm.calcJBWSP500(sp500_df,8,2023)"
   ]
  },
  {
   "cell_type": "code",
   "execution_count": 79,
   "id": "6e11718c",
   "metadata": {},
   "outputs": [
    {
     "data": {
      "text/html": [
       "<div>\n",
       "<style scoped>\n",
       "    .dataframe tbody tr th:only-of-type {\n",
       "        vertical-align: middle;\n",
       "    }\n",
       "\n",
       "    .dataframe tbody tr th {\n",
       "        vertical-align: top;\n",
       "    }\n",
       "\n",
       "    .dataframe thead th {\n",
       "        text-align: right;\n",
       "    }\n",
       "</style>\n",
       "<table border=\"1\" class=\"dataframe\">\n",
       "  <thead>\n",
       "    <tr style=\"text-align: right;\">\n",
       "      <th></th>\n",
       "      <th>DivYield</th>\n",
       "      <th>Total Return</th>\n",
       "      <th>10-yr Tsy Rate</th>\n",
       "      <th>Tot Return - 10yr Tsy</th>\n",
       "    </tr>\n",
       "  </thead>\n",
       "  <tbody>\n",
       "    <tr>\n",
       "      <th>0</th>\n",
       "      <td>0.0053</td>\n",
       "      <td>0.1053</td>\n",
       "      <td>0.0405</td>\n",
       "      <td>0.0648</td>\n",
       "    </tr>\n",
       "  </tbody>\n",
       "</table>\n",
       "</div>"
      ],
      "text/plain": [
       "   DivYield  Total Return  10-yr Tsy Rate  Tot Return - 10yr Tsy\n",
       "0    0.0053        0.1053          0.0405                 0.0648"
      ]
     },
     "execution_count": 79,
     "metadata": {},
     "output_type": "execute_result"
    }
   ],
   "source": [
    "mm.calcJBWforTikr(aapl,.0405,.1)"
   ]
  },
  {
   "cell_type": "code",
   "execution_count": 44,
   "id": "0d692a94",
   "metadata": {},
   "outputs": [
    {
     "data": {
      "text/plain": [
       "{'address1': 'One Apple Park Way',\n",
       " 'city': 'Cupertino',\n",
       " 'state': 'CA',\n",
       " 'zip': '95014',\n",
       " 'country': 'United States',\n",
       " 'phone': '408 996 1010',\n",
       " 'website': 'https://www.apple.com',\n",
       " 'industry': 'Consumer Electronics',\n",
       " 'industryDisp': 'Consumer Electronics',\n",
       " 'sector': 'Technology',\n",
       " 'sectorDisp': 'Технологии',\n",
       " 'longBusinessSummary': 'Apple Inc. designs, manufactures, and markets smartphones, personal computers, tablets, wearables, and accessories worldwide. The company offers iPhone, a line of smartphones; Mac, a line of personal computers; iPad, a line of multi-purpose tablets; and wearables, home, and accessories comprising AirPods, Apple TV, Apple Watch, Beats products, and HomePod. It also provides AppleCare support and cloud services; and operates various platforms, including the App Store that allow customers to discover and download applications and digital content, such as books, music, video, games, and podcasts. In addition, the company offers various services, such as Apple Arcade, a game subscription service; Apple Fitness+, a personalized fitness service; Apple Music, which offers users a curated listening experience with on-demand radio stations; Apple News+, a subscription news and magazine service; Apple TV+, which offers exclusive original content; Apple Card, a co-branded credit card; and Apple Pay, a cashless payment service, as well as licenses its intellectual property. The company serves consumers, and small and mid-sized businesses; and the education, enterprise, and government markets. It distributes third-party applications for its products through the App Store. The company also sells its products through its retail and online stores, and direct sales force; and third-party cellular network carriers, wholesalers, retailers, and resellers. Apple Inc. was incorporated in 1977 and is headquartered in Cupertino, California.',\n",
       " 'fullTimeEmployees': 164000,\n",
       " 'companyOfficers': [{'maxAge': 1,\n",
       "   'name': 'Mr. Timothy D. Cook',\n",
       "   'age': 61,\n",
       "   'title': 'CEO & Director',\n",
       "   'yearBorn': 1961,\n",
       "   'fiscalYear': 2022,\n",
       "   'totalPay': 16425933,\n",
       "   'exercisedValue': 0,\n",
       "   'unexercisedValue': 0},\n",
       "  {'maxAge': 1,\n",
       "   'name': 'Mr. Luca  Maestri',\n",
       "   'age': 59,\n",
       "   'title': 'CFO & Sr. VP',\n",
       "   'yearBorn': 1963,\n",
       "   'fiscalYear': 2022,\n",
       "   'totalPay': 5019783,\n",
       "   'exercisedValue': 0,\n",
       "   'unexercisedValue': 0},\n",
       "  {'maxAge': 1,\n",
       "   'name': 'Mr. Jeffrey E. Williams',\n",
       "   'age': 58,\n",
       "   'title': 'Chief Operating Officer',\n",
       "   'yearBorn': 1964,\n",
       "   'fiscalYear': 2022,\n",
       "   'totalPay': 5018337,\n",
       "   'exercisedValue': 0,\n",
       "   'unexercisedValue': 0},\n",
       "  {'maxAge': 1,\n",
       "   'name': 'Ms. Katherine L. Adams',\n",
       "   'age': 58,\n",
       "   'title': 'Sr. VP, Gen. Counsel & Sec.',\n",
       "   'yearBorn': 1964,\n",
       "   'fiscalYear': 2022,\n",
       "   'totalPay': 5015208,\n",
       "   'exercisedValue': 0,\n",
       "   'unexercisedValue': 0},\n",
       "  {'maxAge': 1,\n",
       "   'name': \"Ms. Deirdre  O'Brien\",\n",
       "   'age': 55,\n",
       "   'title': 'Sr. VP of Retail',\n",
       "   'yearBorn': 1967,\n",
       "   'fiscalYear': 2022,\n",
       "   'totalPay': 5019783,\n",
       "   'exercisedValue': 0,\n",
       "   'unexercisedValue': 0},\n",
       "  {'maxAge': 1,\n",
       "   'name': 'Mr. Chris  Kondo',\n",
       "   'title': 'Sr. Director of Corp. Accounting',\n",
       "   'exercisedValue': 0,\n",
       "   'unexercisedValue': 0},\n",
       "  {'maxAge': 1,\n",
       "   'name': 'Mr. James  Wilson',\n",
       "   'title': 'Chief Technology Officer',\n",
       "   'exercisedValue': 0,\n",
       "   'unexercisedValue': 0},\n",
       "  {'maxAge': 1,\n",
       "   'name': 'Ms. Mary  Demby',\n",
       "   'title': 'Chief Information Officer',\n",
       "   'exercisedValue': 0,\n",
       "   'unexercisedValue': 0},\n",
       "  {'maxAge': 1,\n",
       "   'name': 'Ms. Nancy  Paxton',\n",
       "   'title': 'Sr. Director of Investor Relations & Treasury',\n",
       "   'exercisedValue': 0,\n",
       "   'unexercisedValue': 0},\n",
       "  {'maxAge': 1,\n",
       "   'name': 'Mr. Greg  Joswiak',\n",
       "   'title': 'Sr. VP of Worldwide Marketing',\n",
       "   'exercisedValue': 0,\n",
       "   'unexercisedValue': 0}],\n",
       " 'auditRisk': 4,\n",
       " 'boardRisk': 1,\n",
       " 'compensationRisk': 5,\n",
       " 'shareHolderRightsRisk': 1,\n",
       " 'overallRisk': 1,\n",
       " 'governanceEpochDate': 1690848000,\n",
       " 'compensationAsOfEpochDate': 1672444800,\n",
       " 'maxAge': 86400,\n",
       " 'priceHint': 2,\n",
       " 'previousClose': 181.99,\n",
       " 'open': 182.13,\n",
       " 'dayLow': 177.36,\n",
       " 'dayHigh': 183.13,\n",
       " 'regularMarketPreviousClose': 181.99,\n",
       " 'regularMarketOpen': 182.13,\n",
       " 'regularMarketDayLow': 177.36,\n",
       " 'regularMarketDayHigh': 183.13,\n",
       " 'dividendRate': 0.96,\n",
       " 'dividendYield': 0.0053,\n",
       " 'exDividendDate': 1683849600,\n",
       " 'payoutRatio': 0.156,\n",
       " 'fiveYearAvgDividendYield': 0.87,\n",
       " 'beta': 1.286802,\n",
       " 'trailingPE': 30.365026,\n",
       " 'forwardPE': 27.139606,\n",
       " 'volume': 97263524,\n",
       " 'regularMarketVolume': 97263524,\n",
       " 'averageVolume': 55973159,\n",
       " 'averageVolume10days': 52730790,\n",
       " 'averageDailyVolume10Day': 52730790,\n",
       " 'bid': 179.1,\n",
       " 'ask': 179.15,\n",
       " 'bidSize': 1300,\n",
       " 'askSize': 1000,\n",
       " 'marketCap': 2813078274048,\n",
       " 'fiftyTwoWeekLow': 124.17,\n",
       " 'fiftyTwoWeekHigh': 198.23,\n",
       " 'priceToSalesTrailing12Months': 7.3270035,\n",
       " 'fiftyDayAverage': 187.0868,\n",
       " 'twoHundredDayAverage': 160.0134,\n",
       " 'trailingAnnualDividendRate': 0.93,\n",
       " 'trailingAnnualDividendYield': 0.0051101707,\n",
       " 'currency': 'USD',\n",
       " 'enterpriseValue': 2892071960576,\n",
       " 'profitMargins': 0.24681,\n",
       " 'floatShares': 15617347029,\n",
       " 'sharesOutstanding': 15728700416,\n",
       " 'sharesShort': 126626604,\n",
       " 'sharesShortPriorMonth': 121254451,\n",
       " 'sharesShortPreviousMonthDate': 1686787200,\n",
       " 'dateShortInterest': 1689292800,\n",
       " 'sharesPercentSharesOut': 0.0081,\n",
       " 'heldPercentInsiders': 0.00071999995,\n",
       " 'heldPercentInstitutions': 0.61317,\n",
       " 'shortRatio': 2.35,\n",
       " 'shortPercentOfFloat': 0.0081,\n",
       " 'impliedSharesOutstanding': 15728700416,\n",
       " 'bookValue': 3.852,\n",
       " 'priceToBook': 46.430428,\n",
       " 'lastFiscalYearEnd': 1663977600,\n",
       " 'nextFiscalYearEnd': 1695513600,\n",
       " 'mostRecentQuarter': 1688169600,\n",
       " 'earningsQuarterlyGrowth': 0.023,\n",
       " 'netIncomeToCommon': 94760001536,\n",
       " 'trailingEps': 5.89,\n",
       " 'forwardEps': 6.59,\n",
       " 'pegRatio': 4.06,\n",
       " 'lastSplitFactor': '4:1',\n",
       " 'lastSplitDate': 1598832000,\n",
       " 'enterpriseToRevenue': 7.533,\n",
       " 'enterpriseToEbitda': 23.331,\n",
       " '52WeekChange': 0.1038394,\n",
       " 'SandP52WeekChange': 0.081634045,\n",
       " 'lastDividendValue': 0.24,\n",
       " 'lastDividendDate': 1683849600,\n",
       " 'exchange': 'NMS',\n",
       " 'quoteType': 'EQUITY',\n",
       " 'symbol': 'AAPL',\n",
       " 'underlyingSymbol': 'AAPL',\n",
       " 'shortName': 'Apple Inc.',\n",
       " 'longName': 'Apple Inc.',\n",
       " 'firstTradeDateEpochUtc': 345479400,\n",
       " 'timeZoneFullName': 'America/New_York',\n",
       " 'timeZoneShortName': 'EDT',\n",
       " 'uuid': '8b10e4ae-9eeb-3684-921a-9ab27e4d87aa',\n",
       " 'messageBoardId': 'finmb_24937',\n",
       " 'gmtOffSetMilliseconds': -14400000,\n",
       " 'currentPrice': 178.85,\n",
       " 'targetHighPrice': 240.0,\n",
       " 'targetLowPrice': 140.0,\n",
       " 'targetMeanPrice': 196.43,\n",
       " 'targetMedianPrice': 195.0,\n",
       " 'recommendationMean': 2.0,\n",
       " 'recommendationKey': 'buy',\n",
       " 'numberOfAnalystOpinions': 40,\n",
       " 'totalCash': 62482001920,\n",
       " 'totalCashPerShare': 3.996,\n",
       " 'ebitda': 123957002240,\n",
       " 'totalDebt': 109280002048,\n",
       " 'quickRatio': 0.814,\n",
       " 'currentRatio': 0.982,\n",
       " 'totalRevenue': 383932989440,\n",
       " 'debtToEquity': 181.305,\n",
       " 'revenuePerShare': 24.22,\n",
       " 'returnOnAssets': 0.20896,\n",
       " 'returnOnEquity': 1.60093,\n",
       " 'grossProfits': 170782000000,\n",
       " 'freeCashflow': 90680500224,\n",
       " 'operatingCashflow': 113071996928,\n",
       " 'earningsGrowth': 0.05,\n",
       " 'revenueGrowth': -0.014,\n",
       " 'grossMargins': 0.43449003,\n",
       " 'ebitdaMargins': 0.32286,\n",
       " 'operatingMargins': 0.29231,\n",
       " 'financialCurrency': 'USD',\n",
       " 'trailingPegRatio': 2.4958}"
      ]
     },
     "execution_count": 44,
     "metadata": {},
     "output_type": "execute_result"
    }
   ],
   "source": [
    "aapl.info"
   ]
  },
  {
   "cell_type": "code",
   "execution_count": 45,
   "id": "0b39ef33",
   "metadata": {},
   "outputs": [
    {
     "data": {
      "text/plain": [
       "178.85"
      ]
     },
     "execution_count": 45,
     "metadata": {},
     "output_type": "execute_result"
    }
   ],
   "source": [
    "aapl.info['currentPrice']"
   ]
  },
  {
   "cell_type": "code",
   "execution_count": 80,
   "id": "37038c77",
   "metadata": {},
   "outputs": [
    {
     "name": "stdout",
     "output_type": "stream",
     "text": [
      "Current Price is: 178.85\n",
      "Returning result as %\n"
     ]
    },
    {
     "data": {
      "text/plain": [
       "5.485306135406476"
      ]
     },
     "execution_count": 80,
     "metadata": {},
     "output_type": "execute_result"
    }
   ],
   "source": [
    "# Can put in different growth rates for n number of years and then have rate fall back\n",
    "# and then use latest stock price to see if return is what I want...\n",
    "mm.calcIRRforTikr(aapl, .1, 20, .05)"
   ]
  },
  {
   "cell_type": "code",
   "execution_count": 47,
   "id": "ba4e6da1",
   "metadata": {},
   "outputs": [
    {
     "data": {
      "text/plain": [
       "160.30150753768842"
      ]
     },
     "execution_count": 47,
     "metadata": {},
     "output_type": "execute_result"
    }
   ],
   "source": [
    "mm.calcJBWFromShareholderYield(6.38, .0198)"
   ]
  },
  {
   "cell_type": "code",
   "execution_count": 57,
   "id": "075f3e9a",
   "metadata": {},
   "outputs": [
    {
     "data": {
      "text/plain": [
       "0.0405"
      ]
     },
     "execution_count": 57,
     "metadata": {},
     "output_type": "execute_result"
    }
   ],
   "source": [
    "sp500_df.iloc[0,2]"
   ]
  },
  {
   "cell_type": "code",
   "execution_count": 111,
   "id": "05027078",
   "metadata": {},
   "outputs": [
    {
     "name": "stdout",
     "output_type": "stream",
     "text": [
      "Current P/E is 30.365026\n"
     ]
    },
    {
     "data": {
      "text/html": [
       "<div>\n",
       "<style scoped>\n",
       "    .dataframe tbody tr th:only-of-type {\n",
       "        vertical-align: middle;\n",
       "    }\n",
       "\n",
       "    .dataframe tbody tr th {\n",
       "        vertical-align: top;\n",
       "    }\n",
       "\n",
       "    .dataframe thead th {\n",
       "        text-align: right;\n",
       "    }\n",
       "</style>\n",
       "<table border=\"1\" class=\"dataframe\">\n",
       "  <thead>\n",
       "    <tr style=\"text-align: right;\">\n",
       "      <th></th>\n",
       "      <th>Earnings Growth %</th>\n",
       "      <th>PE in 10 years</th>\n",
       "      <th>PE Growth %</th>\n",
       "      <th>TotalReturn</th>\n",
       "      <th>TsyYield</th>\n",
       "      <th>TotReturn - TsyYield</th>\n",
       "    </tr>\n",
       "  </thead>\n",
       "  <tbody>\n",
       "    <tr>\n",
       "      <th>0</th>\n",
       "      <td>0.05</td>\n",
       "      <td>30</td>\n",
       "      <td>-0.001209</td>\n",
       "      <td>0.054091</td>\n",
       "      <td>0.0405</td>\n",
       "      <td>0.013591</td>\n",
       "    </tr>\n",
       "    <tr>\n",
       "      <th>1</th>\n",
       "      <td>0.10</td>\n",
       "      <td>30</td>\n",
       "      <td>-0.001209</td>\n",
       "      <td>0.104091</td>\n",
       "      <td>0.0405</td>\n",
       "      <td>0.063591</td>\n",
       "    </tr>\n",
       "    <tr>\n",
       "      <th>2</th>\n",
       "      <td>0.05</td>\n",
       "      <td>20</td>\n",
       "      <td>-0.040896</td>\n",
       "      <td>0.014404</td>\n",
       "      <td>0.0405</td>\n",
       "      <td>-0.026096</td>\n",
       "    </tr>\n",
       "    <tr>\n",
       "      <th>3</th>\n",
       "      <td>0.10</td>\n",
       "      <td>20</td>\n",
       "      <td>-0.040896</td>\n",
       "      <td>0.064404</td>\n",
       "      <td>0.0405</td>\n",
       "      <td>0.023904</td>\n",
       "    </tr>\n",
       "  </tbody>\n",
       "</table>\n",
       "</div>"
      ],
      "text/plain": [
       "   Earnings Growth %  PE in 10 years  PE Growth %  TotalReturn  TsyYield  \\\n",
       "0               0.05              30    -0.001209     0.054091    0.0405   \n",
       "1               0.10              30    -0.001209     0.104091    0.0405   \n",
       "2               0.05              20    -0.040896     0.014404    0.0405   \n",
       "3               0.10              20    -0.040896     0.064404    0.0405   \n",
       "\n",
       "   TotReturn - TsyYield  \n",
       "0              0.013591  \n",
       "1              0.063591  \n",
       "2             -0.026096  \n",
       "3              0.023904  "
      ]
     },
     "execution_count": 111,
     "metadata": {},
     "output_type": "execute_result"
    }
   ],
   "source": [
    "mm.calcBogleForStock(aapl,sp500_df.iloc[0,2],[.05, .10, .05, .10],[30, 30, 20, 20] )"
   ]
  },
  {
   "cell_type": "code",
   "execution_count": 110,
   "id": "28263926",
   "metadata": {},
   "outputs": [
    {
     "name": "stdout",
     "output_type": "stream",
     "text": [
      "Assuming long-run growth of earnings of 5%\n",
      "PE on 8-2023 is: 25.95\n"
     ]
    },
    {
     "data": {
      "text/html": [
       "<div>\n",
       "<style scoped>\n",
       "    .dataframe tbody tr th:only-of-type {\n",
       "        vertical-align: middle;\n",
       "    }\n",
       "\n",
       "    .dataframe tbody tr th {\n",
       "        vertical-align: top;\n",
       "    }\n",
       "\n",
       "    .dataframe thead th {\n",
       "        text-align: right;\n",
       "    }\n",
       "</style>\n",
       "<table border=\"1\" class=\"dataframe\">\n",
       "  <thead>\n",
       "    <tr style=\"text-align: right;\">\n",
       "      <th></th>\n",
       "      <th>Earnings Growth %</th>\n",
       "      <th>PE in 10 years</th>\n",
       "      <th>PE Growth</th>\n",
       "      <th>TotalReturn</th>\n",
       "      <th>TsyYield</th>\n",
       "      <th>TotReturn - TsyYield</th>\n",
       "    </tr>\n",
       "  </thead>\n",
       "  <tbody>\n",
       "    <tr>\n",
       "      <th>0</th>\n",
       "      <td>0.05</td>\n",
       "      <td>10</td>\n",
       "      <td>-0.090953</td>\n",
       "      <td>-0.025853</td>\n",
       "      <td>0.0405</td>\n",
       "      <td>-0.066353</td>\n",
       "    </tr>\n",
       "    <tr>\n",
       "      <th>1</th>\n",
       "      <td>0.05</td>\n",
       "      <td>15</td>\n",
       "      <td>-0.053337</td>\n",
       "      <td>0.011763</td>\n",
       "      <td>0.0405</td>\n",
       "      <td>-0.028737</td>\n",
       "    </tr>\n",
       "    <tr>\n",
       "      <th>2</th>\n",
       "      <td>0.05</td>\n",
       "      <td>20</td>\n",
       "      <td>-0.025708</td>\n",
       "      <td>0.039392</td>\n",
       "      <td>0.0405</td>\n",
       "      <td>-0.001108</td>\n",
       "    </tr>\n",
       "    <tr>\n",
       "      <th>3</th>\n",
       "      <td>0.05</td>\n",
       "      <td>25</td>\n",
       "      <td>-0.003723</td>\n",
       "      <td>0.061377</td>\n",
       "      <td>0.0405</td>\n",
       "      <td>0.020877</td>\n",
       "    </tr>\n",
       "    <tr>\n",
       "      <th>4</th>\n",
       "      <td>0.05</td>\n",
       "      <td>30</td>\n",
       "      <td>0.014608</td>\n",
       "      <td>0.079708</td>\n",
       "      <td>0.0405</td>\n",
       "      <td>0.039208</td>\n",
       "    </tr>\n",
       "  </tbody>\n",
       "</table>\n",
       "</div>"
      ],
      "text/plain": [
       "   Earnings Growth %  PE in 10 years  PE Growth  TotalReturn  TsyYield  \\\n",
       "0               0.05              10  -0.090953    -0.025853    0.0405   \n",
       "1               0.05              15  -0.053337     0.011763    0.0405   \n",
       "2               0.05              20  -0.025708     0.039392    0.0405   \n",
       "3               0.05              25  -0.003723     0.061377    0.0405   \n",
       "4               0.05              30   0.014608     0.079708    0.0405   \n",
       "\n",
       "   TotReturn - TsyYield  \n",
       "0             -0.066353  \n",
       "1             -0.028737  \n",
       "2             -0.001108  \n",
       "3              0.020877  \n",
       "4              0.039208  "
      ]
     },
     "execution_count": 110,
     "metadata": {},
     "output_type": "execute_result"
    }
   ],
   "source": [
    "mm.calcBogle(sp500_df,8,2023)"
   ]
  },
  {
   "cell_type": "markdown",
   "id": "754cae9c",
   "metadata": {},
   "source": [
    "## GOOGLE Analysis\n",
    "Google doesn't pay a dividend so can't use JBW equation, nor the IRR methods"
   ]
  },
  {
   "cell_type": "code",
   "execution_count": 81,
   "id": "80783e3e",
   "metadata": {},
   "outputs": [],
   "source": [
    "goog = mm.get_ticker('GOOG')"
   ]
  },
  {
   "cell_type": "code",
   "execution_count": 112,
   "id": "45156b17",
   "metadata": {},
   "outputs": [
    {
     "data": {
      "text/plain": [
       "103.85604113110539"
      ]
     },
     "execution_count": 112,
     "metadata": {},
     "output_type": "execute_result"
    }
   ],
   "source": [
    "# Look in annual report to get dividends + repurchase amount for last year (from cashflows)\n",
    "# In 2022, dividends=0, and repurchases amounted to 59,296 MM\n",
    "# Look in annual report to get total # of shares and then divide\n",
    "# In 2022, it was 6922+924+6819 = 14,665MM shares = 14,665,000,000\n",
    "# Get 30-year TIPS rate\n",
    "\n",
    "# Doing this calc on 9-Aug-2023\n",
    "mm.calcJBWFromShareholderYield(4.04, .0189, .04,.02)"
   ]
  },
  {
   "cell_type": "code",
   "execution_count": 85,
   "id": "24856996",
   "metadata": {},
   "outputs": [
    {
     "data": {
      "text/plain": [
       "4.043368564609615"
      ]
     },
     "execution_count": 85,
     "metadata": {},
     "output_type": "execute_result"
    }
   ],
   "source": [
    "59296000000/14665000000"
   ]
  },
  {
   "cell_type": "code",
   "execution_count": 97,
   "id": "2c33ea74",
   "metadata": {},
   "outputs": [
    {
     "data": {
      "text/plain": [
       "130.15"
      ]
     },
     "execution_count": 97,
     "metadata": {},
     "output_type": "execute_result"
    }
   ],
   "source": [
    "goog.info['currentPrice']"
   ]
  },
  {
   "cell_type": "code",
   "execution_count": 109,
   "id": "5b8320e3",
   "metadata": {},
   "outputs": [
    {
     "name": "stdout",
     "output_type": "stream",
     "text": [
      "Current P/E is 29.646925\n"
     ]
    },
    {
     "data": {
      "text/html": [
       "<div>\n",
       "<style scoped>\n",
       "    .dataframe tbody tr th:only-of-type {\n",
       "        vertical-align: middle;\n",
       "    }\n",
       "\n",
       "    .dataframe tbody tr th {\n",
       "        vertical-align: top;\n",
       "    }\n",
       "\n",
       "    .dataframe thead th {\n",
       "        text-align: right;\n",
       "    }\n",
       "</style>\n",
       "<table border=\"1\" class=\"dataframe\">\n",
       "  <thead>\n",
       "    <tr style=\"text-align: right;\">\n",
       "      <th></th>\n",
       "      <th>Earnings Growth %</th>\n",
       "      <th>PE in 10 years</th>\n",
       "      <th>PE Growth %</th>\n",
       "      <th>TotalReturn</th>\n",
       "      <th>TsyYield</th>\n",
       "      <th>TotReturn - TsyYield</th>\n",
       "    </tr>\n",
       "  </thead>\n",
       "  <tbody>\n",
       "    <tr>\n",
       "      <th>0</th>\n",
       "      <td>0.05</td>\n",
       "      <td>30</td>\n",
       "      <td>0.001185</td>\n",
       "      <td>0.051185</td>\n",
       "      <td>0.0405</td>\n",
       "      <td>0.010685</td>\n",
       "    </tr>\n",
       "    <tr>\n",
       "      <th>1</th>\n",
       "      <td>0.10</td>\n",
       "      <td>30</td>\n",
       "      <td>0.001185</td>\n",
       "      <td>0.101185</td>\n",
       "      <td>0.0405</td>\n",
       "      <td>0.060685</td>\n",
       "    </tr>\n",
       "    <tr>\n",
       "      <th>2</th>\n",
       "      <td>0.05</td>\n",
       "      <td>20</td>\n",
       "      <td>-0.038598</td>\n",
       "      <td>0.011402</td>\n",
       "      <td>0.0405</td>\n",
       "      <td>-0.029098</td>\n",
       "    </tr>\n",
       "    <tr>\n",
       "      <th>3</th>\n",
       "      <td>0.10</td>\n",
       "      <td>20</td>\n",
       "      <td>-0.038598</td>\n",
       "      <td>0.061402</td>\n",
       "      <td>0.0405</td>\n",
       "      <td>0.020902</td>\n",
       "    </tr>\n",
       "  </tbody>\n",
       "</table>\n",
       "</div>"
      ],
      "text/plain": [
       "   Earnings Growth %  PE in 10 years  PE Growth %  TotalReturn  TsyYield  \\\n",
       "0               0.05              30     0.001185     0.051185    0.0405   \n",
       "1               0.10              30     0.001185     0.101185    0.0405   \n",
       "2               0.05              20    -0.038598     0.011402    0.0405   \n",
       "3               0.10              20    -0.038598     0.061402    0.0405   \n",
       "\n",
       "   TotReturn - TsyYield  \n",
       "0              0.010685  \n",
       "1              0.060685  \n",
       "2             -0.029098  \n",
       "3              0.020902  "
      ]
     },
     "execution_count": 109,
     "metadata": {},
     "output_type": "execute_result"
    }
   ],
   "source": [
    "mm.calcBogleForStock(goog,sp500_df.iloc[0,2], [.05, .10, .05, .10],[30, 30, 20, 20] )"
   ]
  },
  {
   "cell_type": "code",
   "execution_count": 108,
   "id": "3726ff73",
   "metadata": {},
   "outputs": [
    {
     "name": "stdout",
     "output_type": "stream",
     "text": [
      "Assuming long-run growth of earnings of 5%\n",
      "PE on 8-2023 is: 25.95\n"
     ]
    },
    {
     "data": {
      "text/html": [
       "<div>\n",
       "<style scoped>\n",
       "    .dataframe tbody tr th:only-of-type {\n",
       "        vertical-align: middle;\n",
       "    }\n",
       "\n",
       "    .dataframe tbody tr th {\n",
       "        vertical-align: top;\n",
       "    }\n",
       "\n",
       "    .dataframe thead th {\n",
       "        text-align: right;\n",
       "    }\n",
       "</style>\n",
       "<table border=\"1\" class=\"dataframe\">\n",
       "  <thead>\n",
       "    <tr style=\"text-align: right;\">\n",
       "      <th></th>\n",
       "      <th>Earnings Growth %</th>\n",
       "      <th>PE in 10 years</th>\n",
       "      <th>PE Growth</th>\n",
       "      <th>TotalReturn</th>\n",
       "      <th>TsyYield</th>\n",
       "      <th>TotReturn - TsyYield</th>\n",
       "    </tr>\n",
       "  </thead>\n",
       "  <tbody>\n",
       "    <tr>\n",
       "      <th>0</th>\n",
       "      <td>0.05</td>\n",
       "      <td>10</td>\n",
       "      <td>-0.090953</td>\n",
       "      <td>-0.025853</td>\n",
       "      <td>0.0405</td>\n",
       "      <td>-0.066353</td>\n",
       "    </tr>\n",
       "    <tr>\n",
       "      <th>1</th>\n",
       "      <td>0.05</td>\n",
       "      <td>15</td>\n",
       "      <td>-0.053337</td>\n",
       "      <td>0.011763</td>\n",
       "      <td>0.0405</td>\n",
       "      <td>-0.028737</td>\n",
       "    </tr>\n",
       "    <tr>\n",
       "      <th>2</th>\n",
       "      <td>0.05</td>\n",
       "      <td>20</td>\n",
       "      <td>-0.025708</td>\n",
       "      <td>0.039392</td>\n",
       "      <td>0.0405</td>\n",
       "      <td>-0.001108</td>\n",
       "    </tr>\n",
       "    <tr>\n",
       "      <th>3</th>\n",
       "      <td>0.05</td>\n",
       "      <td>25</td>\n",
       "      <td>-0.003723</td>\n",
       "      <td>0.061377</td>\n",
       "      <td>0.0405</td>\n",
       "      <td>0.020877</td>\n",
       "    </tr>\n",
       "    <tr>\n",
       "      <th>4</th>\n",
       "      <td>0.05</td>\n",
       "      <td>30</td>\n",
       "      <td>0.014608</td>\n",
       "      <td>0.079708</td>\n",
       "      <td>0.0405</td>\n",
       "      <td>0.039208</td>\n",
       "    </tr>\n",
       "  </tbody>\n",
       "</table>\n",
       "</div>"
      ],
      "text/plain": [
       "   Earnings Growth %  PE in 10 years  PE Growth  TotalReturn  TsyYield  \\\n",
       "0               0.05              10  -0.090953    -0.025853    0.0405   \n",
       "1               0.05              15  -0.053337     0.011763    0.0405   \n",
       "2               0.05              20  -0.025708     0.039392    0.0405   \n",
       "3               0.05              25  -0.003723     0.061377    0.0405   \n",
       "4               0.05              30   0.014608     0.079708    0.0405   \n",
       "\n",
       "   TotReturn - TsyYield  \n",
       "0             -0.066353  \n",
       "1             -0.028737  \n",
       "2             -0.001108  \n",
       "3              0.020877  \n",
       "4              0.039208  "
      ]
     },
     "execution_count": 108,
     "metadata": {},
     "output_type": "execute_result"
    }
   ],
   "source": [
    "mm.calcBogle(sp500_df,8,2023)"
   ]
  },
  {
   "cell_type": "markdown",
   "id": "dc7fbe36",
   "metadata": {},
   "source": [
    "## Amazon Analysis\n",
    "Amazon doesn't pay a dividend so can't use JBW equation, nor the IRR methods"
   ]
  },
  {
   "cell_type": "code",
   "execution_count": 8,
   "id": "4e841d72",
   "metadata": {},
   "outputs": [],
   "source": [
    "amzn = mm.get_ticker('AMZN')"
   ]
  },
  {
   "cell_type": "code",
   "execution_count": 9,
   "id": "9c207374",
   "metadata": {},
   "outputs": [
    {
     "data": {
      "text/plain": [
       "0.5888703503778585"
      ]
     },
     "execution_count": 9,
     "metadata": {},
     "output_type": "execute_result"
    }
   ],
   "source": [
    "6000000000/10189000000"
   ]
  },
  {
   "cell_type": "code",
   "execution_count": 10,
   "id": "023a84c2",
   "metadata": {},
   "outputs": [
    {
     "data": {
      "text/plain": [
       "15.141388174807195"
      ]
     },
     "execution_count": 10,
     "metadata": {},
     "output_type": "execute_result"
    }
   ],
   "source": [
    "# Look in annual report to get dividends + repurchase amount for last year (from cashflows)\n",
    "# In 2022, dividends=0, and repurchases amounted to 6,000 MM\n",
    "# Look in annual report to get total # of shares and then divide\n",
    "# In 2022, it was 10,189MM shares = 10,189,000,000\n",
    "# this amounts to .589 cents / share\n",
    "\n",
    "# Doing this calc on 9-Aug-2023\n",
    "# Get 30-year TIPS rate: .0189\n",
    "\n",
    "mm.calcJBWFromShareholderYield(.589, .0189)\n",
    "\n",
    "# this gives me a weird result; not sure what's wrong..."
   ]
  },
  {
   "cell_type": "code",
   "execution_count": 14,
   "id": "e97b5aee",
   "metadata": {},
   "outputs": [
    {
     "name": "stdout",
     "output_type": "stream",
     "text": [
      "Current P/E is 329.54764\n"
     ]
    },
    {
     "data": {
      "text/html": [
       "<div>\n",
       "<style scoped>\n",
       "    .dataframe tbody tr th:only-of-type {\n",
       "        vertical-align: middle;\n",
       "    }\n",
       "\n",
       "    .dataframe tbody tr th {\n",
       "        vertical-align: top;\n",
       "    }\n",
       "\n",
       "    .dataframe thead th {\n",
       "        text-align: right;\n",
       "    }\n",
       "</style>\n",
       "<table border=\"1\" class=\"dataframe\">\n",
       "  <thead>\n",
       "    <tr style=\"text-align: right;\">\n",
       "      <th></th>\n",
       "      <th>Earnings Growth %</th>\n",
       "      <th>PE in 10 years</th>\n",
       "      <th>PE Growth %</th>\n",
       "      <th>TotalReturn</th>\n",
       "      <th>TsyYield</th>\n",
       "      <th>TotReturn - TsyYield</th>\n",
       "    </tr>\n",
       "  </thead>\n",
       "  <tbody>\n",
       "    <tr>\n",
       "      <th>0</th>\n",
       "      <td>0.05</td>\n",
       "      <td>328</td>\n",
       "      <td>-0.000471</td>\n",
       "      <td>0.049529</td>\n",
       "      <td>0.0405</td>\n",
       "      <td>0.009029</td>\n",
       "    </tr>\n",
       "    <tr>\n",
       "      <th>1</th>\n",
       "      <td>0.10</td>\n",
       "      <td>328</td>\n",
       "      <td>-0.000471</td>\n",
       "      <td>0.099529</td>\n",
       "      <td>0.0405</td>\n",
       "      <td>0.059029</td>\n",
       "    </tr>\n",
       "    <tr>\n",
       "      <th>2</th>\n",
       "      <td>0.15</td>\n",
       "      <td>50</td>\n",
       "      <td>-0.171857</td>\n",
       "      <td>-0.021857</td>\n",
       "      <td>0.0405</td>\n",
       "      <td>-0.062357</td>\n",
       "    </tr>\n",
       "    <tr>\n",
       "      <th>3</th>\n",
       "      <td>0.10</td>\n",
       "      <td>20</td>\n",
       "      <td>-0.244367</td>\n",
       "      <td>-0.144367</td>\n",
       "      <td>0.0405</td>\n",
       "      <td>-0.184867</td>\n",
       "    </tr>\n",
       "  </tbody>\n",
       "</table>\n",
       "</div>"
      ],
      "text/plain": [
       "   Earnings Growth %  PE in 10 years  PE Growth %  TotalReturn  TsyYield  \\\n",
       "0               0.05             328    -0.000471     0.049529    0.0405   \n",
       "1               0.10             328    -0.000471     0.099529    0.0405   \n",
       "2               0.15              50    -0.171857    -0.021857    0.0405   \n",
       "3               0.10              20    -0.244367    -0.144367    0.0405   \n",
       "\n",
       "   TotReturn - TsyYield  \n",
       "0              0.009029  \n",
       "1              0.059029  \n",
       "2             -0.062357  \n",
       "3             -0.184867  "
      ]
     },
     "execution_count": 14,
     "metadata": {},
     "output_type": "execute_result"
    }
   ],
   "source": [
    "mm.calcBogleForStock(amzn,sp500_df.iloc[0,2], [.05, .10, .15, .10],[328, 328, 50, 20] )"
   ]
  },
  {
   "cell_type": "code",
   "execution_count": 6,
   "id": "14cf2ab6",
   "metadata": {},
   "outputs": [
    {
     "name": "stdout",
     "output_type": "stream",
     "text": [
      "Assuming long-run growth of earnings of 5%\n",
      "PE on 8-2023 is: 25.95\n"
     ]
    },
    {
     "data": {
      "text/html": [
       "<div>\n",
       "<style scoped>\n",
       "    .dataframe tbody tr th:only-of-type {\n",
       "        vertical-align: middle;\n",
       "    }\n",
       "\n",
       "    .dataframe tbody tr th {\n",
       "        vertical-align: top;\n",
       "    }\n",
       "\n",
       "    .dataframe thead th {\n",
       "        text-align: right;\n",
       "    }\n",
       "</style>\n",
       "<table border=\"1\" class=\"dataframe\">\n",
       "  <thead>\n",
       "    <tr style=\"text-align: right;\">\n",
       "      <th></th>\n",
       "      <th>Earnings Growth %</th>\n",
       "      <th>PE in 10 years</th>\n",
       "      <th>PE Growth</th>\n",
       "      <th>TotalReturn</th>\n",
       "      <th>TsyYield</th>\n",
       "      <th>TotReturn - TsyYield</th>\n",
       "    </tr>\n",
       "  </thead>\n",
       "  <tbody>\n",
       "    <tr>\n",
       "      <th>0</th>\n",
       "      <td>0.05</td>\n",
       "      <td>10</td>\n",
       "      <td>-0.090953</td>\n",
       "      <td>-0.025853</td>\n",
       "      <td>0.0405</td>\n",
       "      <td>-0.066353</td>\n",
       "    </tr>\n",
       "    <tr>\n",
       "      <th>1</th>\n",
       "      <td>0.05</td>\n",
       "      <td>15</td>\n",
       "      <td>-0.053337</td>\n",
       "      <td>0.011763</td>\n",
       "      <td>0.0405</td>\n",
       "      <td>-0.028737</td>\n",
       "    </tr>\n",
       "    <tr>\n",
       "      <th>2</th>\n",
       "      <td>0.05</td>\n",
       "      <td>20</td>\n",
       "      <td>-0.025708</td>\n",
       "      <td>0.039392</td>\n",
       "      <td>0.0405</td>\n",
       "      <td>-0.001108</td>\n",
       "    </tr>\n",
       "    <tr>\n",
       "      <th>3</th>\n",
       "      <td>0.05</td>\n",
       "      <td>25</td>\n",
       "      <td>-0.003723</td>\n",
       "      <td>0.061377</td>\n",
       "      <td>0.0405</td>\n",
       "      <td>0.020877</td>\n",
       "    </tr>\n",
       "    <tr>\n",
       "      <th>4</th>\n",
       "      <td>0.05</td>\n",
       "      <td>30</td>\n",
       "      <td>0.014608</td>\n",
       "      <td>0.079708</td>\n",
       "      <td>0.0405</td>\n",
       "      <td>0.039208</td>\n",
       "    </tr>\n",
       "  </tbody>\n",
       "</table>\n",
       "</div>"
      ],
      "text/plain": [
       "   Earnings Growth %  PE in 10 years  PE Growth  TotalReturn  TsyYield  \\\n",
       "0               0.05              10  -0.090953    -0.025853    0.0405   \n",
       "1               0.05              15  -0.053337     0.011763    0.0405   \n",
       "2               0.05              20  -0.025708     0.039392    0.0405   \n",
       "3               0.05              25  -0.003723     0.061377    0.0405   \n",
       "4               0.05              30   0.014608     0.079708    0.0405   \n",
       "\n",
       "   TotReturn - TsyYield  \n",
       "0             -0.066353  \n",
       "1             -0.028737  \n",
       "2             -0.001108  \n",
       "3              0.020877  \n",
       "4              0.039208  "
      ]
     },
     "execution_count": 6,
     "metadata": {},
     "output_type": "execute_result"
    }
   ],
   "source": [
    "mm.calcBogle(sp500_df,8,2023)"
   ]
  },
  {
   "cell_type": "markdown",
   "id": "6f6fd249",
   "metadata": {},
   "source": [
    "## Microsoft Analysis"
   ]
  },
  {
   "cell_type": "code",
   "execution_count": 15,
   "id": "a6572be1",
   "metadata": {},
   "outputs": [],
   "source": [
    "msft = mm.get_ticker('MSFT')"
   ]
  },
  {
   "cell_type": "code",
   "execution_count": 16,
   "id": "82999f62",
   "metadata": {},
   "outputs": [
    {
     "data": {
      "text/html": [
       "<div>\n",
       "<style scoped>\n",
       "    .dataframe tbody tr th:only-of-type {\n",
       "        vertical-align: middle;\n",
       "    }\n",
       "\n",
       "    .dataframe tbody tr th {\n",
       "        vertical-align: top;\n",
       "    }\n",
       "\n",
       "    .dataframe thead th {\n",
       "        text-align: right;\n",
       "    }\n",
       "</style>\n",
       "<table border=\"1\" class=\"dataframe\">\n",
       "  <thead>\n",
       "    <tr style=\"text-align: right;\">\n",
       "      <th></th>\n",
       "      <th>DivYield</th>\n",
       "      <th>Total Return</th>\n",
       "      <th>10-yr Tsy Rate</th>\n",
       "      <th>Tot Return - 10yr Tsy</th>\n",
       "    </tr>\n",
       "  </thead>\n",
       "  <tbody>\n",
       "    <tr>\n",
       "      <th>0</th>\n",
       "      <td>0.0151</td>\n",
       "      <td>0.0651</td>\n",
       "      <td>0.0405</td>\n",
       "      <td>0.0246</td>\n",
       "    </tr>\n",
       "  </tbody>\n",
       "</table>\n",
       "</div>"
      ],
      "text/plain": [
       "   DivYield  Total Return  10-yr Tsy Rate  Tot Return - 10yr Tsy\n",
       "0    0.0151        0.0651          0.0405                 0.0246"
      ]
     },
     "execution_count": 16,
     "metadata": {},
     "output_type": "execute_result"
    }
   ],
   "source": [
    "mm.calcJBWSP500(sp500_df,8,2023)"
   ]
  },
  {
   "cell_type": "code",
   "execution_count": 43,
   "id": "93974015",
   "metadata": {},
   "outputs": [
    {
     "data": {
      "text/html": [
       "<div>\n",
       "<style scoped>\n",
       "    .dataframe tbody tr th:only-of-type {\n",
       "        vertical-align: middle;\n",
       "    }\n",
       "\n",
       "    .dataframe tbody tr th {\n",
       "        vertical-align: top;\n",
       "    }\n",
       "\n",
       "    .dataframe thead th {\n",
       "        text-align: right;\n",
       "    }\n",
       "</style>\n",
       "<table border=\"1\" class=\"dataframe\">\n",
       "  <thead>\n",
       "    <tr style=\"text-align: right;\">\n",
       "      <th></th>\n",
       "      <th>DivYield</th>\n",
       "      <th>Total Return</th>\n",
       "      <th>10-yr Tsy Rate</th>\n",
       "      <th>Tot Return - 10yr Tsy</th>\n",
       "    </tr>\n",
       "  </thead>\n",
       "  <tbody>\n",
       "    <tr>\n",
       "      <th>0</th>\n",
       "      <td>0.0084</td>\n",
       "      <td>0.1084</td>\n",
       "      <td>0.0405</td>\n",
       "      <td>0.0679</td>\n",
       "    </tr>\n",
       "  </tbody>\n",
       "</table>\n",
       "</div>"
      ],
      "text/plain": [
       "   DivYield  Total Return  10-yr Tsy Rate  Tot Return - 10yr Tsy\n",
       "0    0.0084        0.1084          0.0405                 0.0679"
      ]
     },
     "execution_count": 43,
     "metadata": {},
     "output_type": "execute_result"
    }
   ],
   "source": [
    "mm.calcJBWforTikr(msft,.0405,.1)"
   ]
  },
  {
   "cell_type": "code",
   "execution_count": 46,
   "id": "48da2730",
   "metadata": {},
   "outputs": [
    {
     "name": "stdout",
     "output_type": "stream",
     "text": [
      "Current Price is: 321.01\n",
      "Returning result as %\n"
     ]
    },
    {
     "data": {
      "text/plain": [
       "6.003988176596997"
      ]
     },
     "execution_count": 46,
     "metadata": {},
     "output_type": "execute_result"
    }
   ],
   "source": [
    "# Can put in different growth rates for n number of years and then have rate fall back\n",
    "# and then use latest stock price to see if return is what I want...\n",
    "mm.calcIRRforTikr(msft, .12, 10, .05)"
   ]
  },
  {
   "cell_type": "code",
   "execution_count": 23,
   "id": "c85ee7da",
   "metadata": {},
   "outputs": [
    {
     "name": "stdout",
     "output_type": "stream",
     "text": [
      "Help on function calcJBWFromShareholderYield in module money_machine:\n",
      "\n",
      "calcJBWFromShareholderYield(d_per_share, tips_yield, risk_premium=0.04, g=0.02)\n",
      "    JBW Variation using Shareholder Yield:\n",
      "    Add Dividends + Repurchases and calc V = D /(R-g)\n",
      "    where R = Current 30-year TIPS Yield + Risk_Premium_I_Desire & g = long-term-growth rate (~.02)\n",
      "    d_per_share represents (dividends + shareholder buybacks) / # of shares outstanding\n",
      "\n"
     ]
    }
   ],
   "source": [
    "# help(mm.calcJBWFromShareholderYield)"
   ]
  },
  {
   "cell_type": "code",
   "execution_count": 25,
   "id": "578c1a89",
   "metadata": {},
   "outputs": [
    {
     "data": {
      "text/plain": [
       "5.165952890792291"
      ]
     },
     "execution_count": 25,
     "metadata": {},
     "output_type": "execute_result"
    }
   ],
   "source": [
    "# In 2023, MSFT spent 18.4 BN on share repurchases & 20.2 BN on dividends\n",
    "# outstanding shares diluted = 7,472,000,000\n",
    "(18400000000+20200000000)/(7472000000)\n",
    "# 5.17 per share"
   ]
  },
  {
   "cell_type": "code",
   "execution_count": 35,
   "id": "abdd88df",
   "metadata": {},
   "outputs": [
    {
     "data": {
      "text/plain": [
       "130.55555555555557"
      ]
     },
     "execution_count": 35,
     "metadata": {},
     "output_type": "execute_result"
    }
   ],
   "source": [
    "mm.calcJBWFromShareholderYield(5.17, .0196, .04, .02)"
   ]
  },
  {
   "cell_type": "code",
   "execution_count": 44,
   "id": "b5708a23",
   "metadata": {},
   "outputs": [
    {
     "name": "stdout",
     "output_type": "stream",
     "text": [
      "Current P/E is 34.778984\n"
     ]
    },
    {
     "data": {
      "text/html": [
       "<div>\n",
       "<style scoped>\n",
       "    .dataframe tbody tr th:only-of-type {\n",
       "        vertical-align: middle;\n",
       "    }\n",
       "\n",
       "    .dataframe tbody tr th {\n",
       "        vertical-align: top;\n",
       "    }\n",
       "\n",
       "    .dataframe thead th {\n",
       "        text-align: right;\n",
       "    }\n",
       "</style>\n",
       "<table border=\"1\" class=\"dataframe\">\n",
       "  <thead>\n",
       "    <tr style=\"text-align: right;\">\n",
       "      <th></th>\n",
       "      <th>Earnings Growth %</th>\n",
       "      <th>PE in 10 years</th>\n",
       "      <th>PE Growth %</th>\n",
       "      <th>TotalReturn</th>\n",
       "      <th>TsyYield</th>\n",
       "      <th>TotReturn - TsyYield</th>\n",
       "    </tr>\n",
       "  </thead>\n",
       "  <tbody>\n",
       "    <tr>\n",
       "      <th>0</th>\n",
       "      <td>0.05</td>\n",
       "      <td>34</td>\n",
       "      <td>-0.002263</td>\n",
       "      <td>0.056137</td>\n",
       "      <td>0.0405</td>\n",
       "      <td>0.015637</td>\n",
       "    </tr>\n",
       "    <tr>\n",
       "      <th>1</th>\n",
       "      <td>0.10</td>\n",
       "      <td>30</td>\n",
       "      <td>-0.014673</td>\n",
       "      <td>0.093727</td>\n",
       "      <td>0.0405</td>\n",
       "      <td>0.053227</td>\n",
       "    </tr>\n",
       "    <tr>\n",
       "      <th>2</th>\n",
       "      <td>0.05</td>\n",
       "      <td>20</td>\n",
       "      <td>-0.053825</td>\n",
       "      <td>0.004575</td>\n",
       "      <td>0.0405</td>\n",
       "      <td>-0.035925</td>\n",
       "    </tr>\n",
       "    <tr>\n",
       "      <th>3</th>\n",
       "      <td>0.10</td>\n",
       "      <td>15</td>\n",
       "      <td>-0.080657</td>\n",
       "      <td>0.027743</td>\n",
       "      <td>0.0405</td>\n",
       "      <td>-0.012757</td>\n",
       "    </tr>\n",
       "  </tbody>\n",
       "</table>\n",
       "</div>"
      ],
      "text/plain": [
       "   Earnings Growth %  PE in 10 years  PE Growth %  TotalReturn  TsyYield  \\\n",
       "0               0.05              34    -0.002263     0.056137    0.0405   \n",
       "1               0.10              30    -0.014673     0.093727    0.0405   \n",
       "2               0.05              20    -0.053825     0.004575    0.0405   \n",
       "3               0.10              15    -0.080657     0.027743    0.0405   \n",
       "\n",
       "   TotReturn - TsyYield  \n",
       "0              0.015637  \n",
       "1              0.053227  \n",
       "2             -0.035925  \n",
       "3             -0.012757  "
      ]
     },
     "execution_count": 44,
     "metadata": {},
     "output_type": "execute_result"
    }
   ],
   "source": [
    "mm.calcBogleForStock(msft,sp500_df.iloc[0,2],[.05, .10, .05, .10],[34, 30, 20, 15] )"
   ]
  },
  {
   "cell_type": "code",
   "execution_count": 41,
   "id": "00dd538d",
   "metadata": {},
   "outputs": [
    {
     "name": "stdout",
     "output_type": "stream",
     "text": [
      "Assuming long-run growth of earnings of 5%\n",
      "PE on 8-2023 is: 25.95\n"
     ]
    },
    {
     "data": {
      "text/html": [
       "<div>\n",
       "<style scoped>\n",
       "    .dataframe tbody tr th:only-of-type {\n",
       "        vertical-align: middle;\n",
       "    }\n",
       "\n",
       "    .dataframe tbody tr th {\n",
       "        vertical-align: top;\n",
       "    }\n",
       "\n",
       "    .dataframe thead th {\n",
       "        text-align: right;\n",
       "    }\n",
       "</style>\n",
       "<table border=\"1\" class=\"dataframe\">\n",
       "  <thead>\n",
       "    <tr style=\"text-align: right;\">\n",
       "      <th></th>\n",
       "      <th>Earnings Growth %</th>\n",
       "      <th>PE in 10 years</th>\n",
       "      <th>PE Growth</th>\n",
       "      <th>TotalReturn</th>\n",
       "      <th>TsyYield</th>\n",
       "      <th>TotReturn - TsyYield</th>\n",
       "    </tr>\n",
       "  </thead>\n",
       "  <tbody>\n",
       "    <tr>\n",
       "      <th>0</th>\n",
       "      <td>0.05</td>\n",
       "      <td>30.00</td>\n",
       "      <td>0.014608</td>\n",
       "      <td>0.079708</td>\n",
       "      <td>0.0405</td>\n",
       "      <td>0.039208</td>\n",
       "    </tr>\n",
       "    <tr>\n",
       "      <th>1</th>\n",
       "      <td>0.05</td>\n",
       "      <td>25.95</td>\n",
       "      <td>0.000000</td>\n",
       "      <td>0.065100</td>\n",
       "      <td>0.0405</td>\n",
       "      <td>0.024600</td>\n",
       "    </tr>\n",
       "    <tr>\n",
       "      <th>2</th>\n",
       "      <td>0.05</td>\n",
       "      <td>20.00</td>\n",
       "      <td>-0.025708</td>\n",
       "      <td>0.039392</td>\n",
       "      <td>0.0405</td>\n",
       "      <td>-0.001108</td>\n",
       "    </tr>\n",
       "    <tr>\n",
       "      <th>3</th>\n",
       "      <td>0.05</td>\n",
       "      <td>15.00</td>\n",
       "      <td>-0.053337</td>\n",
       "      <td>0.011763</td>\n",
       "      <td>0.0405</td>\n",
       "      <td>-0.028737</td>\n",
       "    </tr>\n",
       "  </tbody>\n",
       "</table>\n",
       "</div>"
      ],
      "text/plain": [
       "   Earnings Growth %  PE in 10 years  PE Growth  TotalReturn  TsyYield  \\\n",
       "0               0.05           30.00   0.014608     0.079708    0.0405   \n",
       "1               0.05           25.95   0.000000     0.065100    0.0405   \n",
       "2               0.05           20.00  -0.025708     0.039392    0.0405   \n",
       "3               0.05           15.00  -0.053337     0.011763    0.0405   \n",
       "\n",
       "   TotReturn - TsyYield  \n",
       "0              0.039208  \n",
       "1              0.024600  \n",
       "2             -0.001108  \n",
       "3             -0.028737  "
      ]
     },
     "execution_count": 41,
     "metadata": {},
     "output_type": "execute_result"
    }
   ],
   "source": [
    "mm.calcBogle(sp500_df,8,2023,[30,25.95,20,15])"
   ]
  },
  {
   "cell_type": "markdown",
   "id": "e7adb6d8",
   "metadata": {},
   "source": [
    "## META Analysis\n",
    "Meta doesn't pay a dividend so can't use JBW equation, nor the IRR methods"
   ]
  },
  {
   "cell_type": "code",
   "execution_count": 50,
   "id": "58afe51f",
   "metadata": {},
   "outputs": [],
   "source": [
    "meta = mm.get_ticker('META')"
   ]
  },
  {
   "cell_type": "code",
   "execution_count": 51,
   "id": "0796948c",
   "metadata": {},
   "outputs": [
    {
     "data": {
      "text/html": [
       "<div>\n",
       "<style scoped>\n",
       "    .dataframe tbody tr th:only-of-type {\n",
       "        vertical-align: middle;\n",
       "    }\n",
       "\n",
       "    .dataframe tbody tr th {\n",
       "        vertical-align: top;\n",
       "    }\n",
       "\n",
       "    .dataframe thead th {\n",
       "        text-align: right;\n",
       "    }\n",
       "</style>\n",
       "<table border=\"1\" class=\"dataframe\">\n",
       "  <thead>\n",
       "    <tr style=\"text-align: right;\">\n",
       "      <th></th>\n",
       "      <th>DivYield</th>\n",
       "      <th>Total Return</th>\n",
       "      <th>10-yr Tsy Rate</th>\n",
       "      <th>Tot Return - 10yr Tsy</th>\n",
       "    </tr>\n",
       "  </thead>\n",
       "  <tbody>\n",
       "    <tr>\n",
       "      <th>0</th>\n",
       "      <td>0.0151</td>\n",
       "      <td>0.0651</td>\n",
       "      <td>0.0405</td>\n",
       "      <td>0.0246</td>\n",
       "    </tr>\n",
       "  </tbody>\n",
       "</table>\n",
       "</div>"
      ],
      "text/plain": [
       "   DivYield  Total Return  10-yr Tsy Rate  Tot Return - 10yr Tsy\n",
       "0    0.0151        0.0651          0.0405                 0.0246"
      ]
     },
     "execution_count": 51,
     "metadata": {},
     "output_type": "execute_result"
    }
   ],
   "source": [
    "mm.calcJBWSP500(sp500_df,8,2023)"
   ]
  },
  {
   "cell_type": "code",
   "execution_count": 54,
   "id": "838dfa63",
   "metadata": {},
   "outputs": [
    {
     "name": "stdout",
     "output_type": "stream",
     "text": [
      "No dividend for yfinance.Ticker object <META>\n"
     ]
    }
   ],
   "source": [
    "mm.calcJBWforTikr(meta,.0405,.1)"
   ]
  },
  {
   "cell_type": "code",
   "execution_count": 55,
   "id": "56c19392",
   "metadata": {},
   "outputs": [
    {
     "data": {
      "text/plain": [
       "10.347890451517394"
      ]
     },
     "execution_count": 55,
     "metadata": {},
     "output_type": "execute_result"
    }
   ],
   "source": [
    "# In 2023, META spent 27.96 BN on share repurchases & 0 BN on dividends\n",
    "# outstanding shares diluted = 2,702,000,000\n",
    "(27960000000+0)/(2702000000)\n",
    "# 10.35 per share"
   ]
  },
  {
   "cell_type": "code",
   "execution_count": 56,
   "id": "67041279",
   "metadata": {},
   "outputs": [
    {
     "data": {
      "text/plain": [
       "261.3636363636364"
      ]
     },
     "execution_count": 56,
     "metadata": {},
     "output_type": "execute_result"
    }
   ],
   "source": [
    "mm.calcJBWFromShareholderYield(10.35, .0196, .04, .02)"
   ]
  },
  {
   "cell_type": "code",
   "execution_count": 58,
   "id": "ae08456f",
   "metadata": {},
   "outputs": [
    {
     "name": "stdout",
     "output_type": "stream",
     "text": [
      "Current P/E is 39.12322\n"
     ]
    },
    {
     "data": {
      "text/html": [
       "<div>\n",
       "<style scoped>\n",
       "    .dataframe tbody tr th:only-of-type {\n",
       "        vertical-align: middle;\n",
       "    }\n",
       "\n",
       "    .dataframe tbody tr th {\n",
       "        vertical-align: top;\n",
       "    }\n",
       "\n",
       "    .dataframe thead th {\n",
       "        text-align: right;\n",
       "    }\n",
       "</style>\n",
       "<table border=\"1\" class=\"dataframe\">\n",
       "  <thead>\n",
       "    <tr style=\"text-align: right;\">\n",
       "      <th></th>\n",
       "      <th>Earnings Growth %</th>\n",
       "      <th>PE in 10 years</th>\n",
       "      <th>PE Growth %</th>\n",
       "      <th>TotalReturn</th>\n",
       "      <th>TsyYield</th>\n",
       "      <th>TotReturn - TsyYield</th>\n",
       "    </tr>\n",
       "  </thead>\n",
       "  <tbody>\n",
       "    <tr>\n",
       "      <th>0</th>\n",
       "      <td>0.05</td>\n",
       "      <td>39</td>\n",
       "      <td>-0.000315</td>\n",
       "      <td>0.049685</td>\n",
       "      <td>0.0405</td>\n",
       "      <td>0.009185</td>\n",
       "    </tr>\n",
       "    <tr>\n",
       "      <th>1</th>\n",
       "      <td>0.10</td>\n",
       "      <td>30</td>\n",
       "      <td>-0.026202</td>\n",
       "      <td>0.073798</td>\n",
       "      <td>0.0405</td>\n",
       "      <td>0.033298</td>\n",
       "    </tr>\n",
       "    <tr>\n",
       "      <th>2</th>\n",
       "      <td>0.05</td>\n",
       "      <td>20</td>\n",
       "      <td>-0.064897</td>\n",
       "      <td>-0.014897</td>\n",
       "      <td>0.0405</td>\n",
       "      <td>-0.055397</td>\n",
       "    </tr>\n",
       "    <tr>\n",
       "      <th>3</th>\n",
       "      <td>0.10</td>\n",
       "      <td>15</td>\n",
       "      <td>-0.091415</td>\n",
       "      <td>0.008585</td>\n",
       "      <td>0.0405</td>\n",
       "      <td>-0.031915</td>\n",
       "    </tr>\n",
       "  </tbody>\n",
       "</table>\n",
       "</div>"
      ],
      "text/plain": [
       "   Earnings Growth %  PE in 10 years  PE Growth %  TotalReturn  TsyYield  \\\n",
       "0               0.05              39    -0.000315     0.049685    0.0405   \n",
       "1               0.10              30    -0.026202     0.073798    0.0405   \n",
       "2               0.05              20    -0.064897    -0.014897    0.0405   \n",
       "3               0.10              15    -0.091415     0.008585    0.0405   \n",
       "\n",
       "   TotReturn - TsyYield  \n",
       "0              0.009185  \n",
       "1              0.033298  \n",
       "2             -0.055397  \n",
       "3             -0.031915  "
      ]
     },
     "execution_count": 58,
     "metadata": {},
     "output_type": "execute_result"
    }
   ],
   "source": [
    "mm.calcBogleForStock(meta,sp500_df.iloc[0,2],[.05, .10, .05, .10],[39, 30, 20, 15] )"
   ]
  },
  {
   "cell_type": "code",
   "execution_count": 59,
   "id": "749722ab",
   "metadata": {},
   "outputs": [
    {
     "data": {
      "text/plain": [
       "1552"
      ]
     },
     "execution_count": 59,
     "metadata": {},
     "output_type": "execute_result"
    }
   ],
   "source": [
    "# take market value; double it; what would earnings have to be to support the double valuaton\n",
    "# mkt value now = 776BN\n",
    "# double = 1552 BN\n",
    "1552/#shares = price\n",
    "1552/#shares/E = 40"
   ]
  },
  {
   "cell_type": "code",
   "execution_count": 60,
   "id": "e2d902a0",
   "metadata": {},
   "outputs": [
    {
     "data": {
      "text/plain": [
       "38800000000.0"
      ]
     },
     "execution_count": 60,
     "metadata": {},
     "output_type": "execute_result"
    }
   ],
   "source": [
    "1552000000000/40\n",
    "# 38,800MM = 38.8 BN would have to be earnings"
   ]
  },
  {
   "cell_type": "markdown",
   "id": "89a488d2",
   "metadata": {},
   "source": [
    "## NFLX Analysis\n",
    "Netflix doesn't pay a dividend so can't use JBW equation, nor the IRR methods"
   ]
  },
  {
   "cell_type": "code",
   "execution_count": 61,
   "id": "97123bc8",
   "metadata": {},
   "outputs": [],
   "source": [
    "nflx = mm.get_ticker('NFLX')"
   ]
  },
  {
   "cell_type": "code",
   "execution_count": 62,
   "id": "7cccc0a8",
   "metadata": {},
   "outputs": [
    {
     "data": {
      "text/html": [
       "<div>\n",
       "<style scoped>\n",
       "    .dataframe tbody tr th:only-of-type {\n",
       "        vertical-align: middle;\n",
       "    }\n",
       "\n",
       "    .dataframe tbody tr th {\n",
       "        vertical-align: top;\n",
       "    }\n",
       "\n",
       "    .dataframe thead th {\n",
       "        text-align: right;\n",
       "    }\n",
       "</style>\n",
       "<table border=\"1\" class=\"dataframe\">\n",
       "  <thead>\n",
       "    <tr style=\"text-align: right;\">\n",
       "      <th></th>\n",
       "      <th>DivYield</th>\n",
       "      <th>Total Return</th>\n",
       "      <th>10-yr Tsy Rate</th>\n",
       "      <th>Tot Return - 10yr Tsy</th>\n",
       "    </tr>\n",
       "  </thead>\n",
       "  <tbody>\n",
       "    <tr>\n",
       "      <th>0</th>\n",
       "      <td>0.0151</td>\n",
       "      <td>0.0651</td>\n",
       "      <td>0.0405</td>\n",
       "      <td>0.0246</td>\n",
       "    </tr>\n",
       "  </tbody>\n",
       "</table>\n",
       "</div>"
      ],
      "text/plain": [
       "   DivYield  Total Return  10-yr Tsy Rate  Tot Return - 10yr Tsy\n",
       "0    0.0151        0.0651          0.0405                 0.0246"
      ]
     },
     "execution_count": 62,
     "metadata": {},
     "output_type": "execute_result"
    }
   ],
   "source": [
    "mm.calcJBWSP500(sp500_df,8,2023)"
   ]
  },
  {
   "cell_type": "code",
   "execution_count": 63,
   "id": "cc63dde0",
   "metadata": {},
   "outputs": [
    {
     "name": "stdout",
     "output_type": "stream",
     "text": [
      "No dividend for yfinance.Ticker object <NFLX>\n"
     ]
    }
   ],
   "source": [
    "mm.calcJBWforTikr(nflx,.0405,.1)"
   ]
  },
  {
   "cell_type": "code",
   "execution_count": null,
   "id": "9a55e179",
   "metadata": {},
   "outputs": [],
   "source": [
    "# In 2023, NFLX spent 0 BN on share repurchases & 0 BN on dividends\n",
    "# outstanding shares diluted = ??\n",
    "(0+0)/(??)\n",
    "# 0 per share"
   ]
  },
  {
   "cell_type": "code",
   "execution_count": 65,
   "id": "f54f7c5e",
   "metadata": {},
   "outputs": [
    {
     "data": {
      "text/plain": [
       "0.0"
      ]
     },
     "execution_count": 65,
     "metadata": {},
     "output_type": "execute_result"
    }
   ],
   "source": [
    "mm.calcJBWFromShareholderYield(0, .0196, .04, .02)"
   ]
  },
  {
   "cell_type": "code",
   "execution_count": 68,
   "id": "e1a25bbf",
   "metadata": {},
   "outputs": [
    {
     "name": "stdout",
     "output_type": "stream",
     "text": [
      "Current P/E is 49.20187\n"
     ]
    },
    {
     "data": {
      "text/html": [
       "<div>\n",
       "<style scoped>\n",
       "    .dataframe tbody tr th:only-of-type {\n",
       "        vertical-align: middle;\n",
       "    }\n",
       "\n",
       "    .dataframe tbody tr th {\n",
       "        vertical-align: top;\n",
       "    }\n",
       "\n",
       "    .dataframe thead th {\n",
       "        text-align: right;\n",
       "    }\n",
       "</style>\n",
       "<table border=\"1\" class=\"dataframe\">\n",
       "  <thead>\n",
       "    <tr style=\"text-align: right;\">\n",
       "      <th></th>\n",
       "      <th>Earnings Growth %</th>\n",
       "      <th>PE in 10 years</th>\n",
       "      <th>PE Growth %</th>\n",
       "      <th>TotalReturn</th>\n",
       "      <th>TsyYield</th>\n",
       "      <th>TotReturn - TsyYield</th>\n",
       "    </tr>\n",
       "  </thead>\n",
       "  <tbody>\n",
       "    <tr>\n",
       "      <th>0</th>\n",
       "      <td>0.05</td>\n",
       "      <td>49</td>\n",
       "      <td>-0.000411</td>\n",
       "      <td>0.049589</td>\n",
       "      <td>0.0405</td>\n",
       "      <td>0.009089</td>\n",
       "    </tr>\n",
       "    <tr>\n",
       "      <th>1</th>\n",
       "      <td>0.10</td>\n",
       "      <td>49</td>\n",
       "      <td>-0.000411</td>\n",
       "      <td>0.099589</td>\n",
       "      <td>0.0405</td>\n",
       "      <td>0.059089</td>\n",
       "    </tr>\n",
       "    <tr>\n",
       "      <th>2</th>\n",
       "      <td>0.05</td>\n",
       "      <td>20</td>\n",
       "      <td>-0.086087</td>\n",
       "      <td>-0.036087</td>\n",
       "      <td>0.0405</td>\n",
       "      <td>-0.076587</td>\n",
       "    </tr>\n",
       "    <tr>\n",
       "      <th>3</th>\n",
       "      <td>0.10</td>\n",
       "      <td>15</td>\n",
       "      <td>-0.112004</td>\n",
       "      <td>-0.012004</td>\n",
       "      <td>0.0405</td>\n",
       "      <td>-0.052504</td>\n",
       "    </tr>\n",
       "  </tbody>\n",
       "</table>\n",
       "</div>"
      ],
      "text/plain": [
       "   Earnings Growth %  PE in 10 years  PE Growth %  TotalReturn  TsyYield  \\\n",
       "0               0.05              49    -0.000411     0.049589    0.0405   \n",
       "1               0.10              49    -0.000411     0.099589    0.0405   \n",
       "2               0.05              20    -0.086087    -0.036087    0.0405   \n",
       "3               0.10              15    -0.112004    -0.012004    0.0405   \n",
       "\n",
       "   TotReturn - TsyYield  \n",
       "0              0.009089  \n",
       "1              0.059089  \n",
       "2             -0.076587  \n",
       "3             -0.052504  "
      ]
     },
     "execution_count": 68,
     "metadata": {},
     "output_type": "execute_result"
    }
   ],
   "source": [
    "mm.calcBogleForStock(nflx,sp500_df.iloc[0,2],[.05, .10, .05, .10],[49, 49, 20, 15] )"
   ]
  },
  {
   "cell_type": "code",
   "execution_count": 67,
   "id": "32925220",
   "metadata": {},
   "outputs": [
    {
     "name": "stdout",
     "output_type": "stream",
     "text": [
      "Assuming long-run growth of earnings of 5%\n",
      "PE on 8-2023 is: 25.95\n"
     ]
    },
    {
     "data": {
      "text/html": [
       "<div>\n",
       "<style scoped>\n",
       "    .dataframe tbody tr th:only-of-type {\n",
       "        vertical-align: middle;\n",
       "    }\n",
       "\n",
       "    .dataframe tbody tr th {\n",
       "        vertical-align: top;\n",
       "    }\n",
       "\n",
       "    .dataframe thead th {\n",
       "        text-align: right;\n",
       "    }\n",
       "</style>\n",
       "<table border=\"1\" class=\"dataframe\">\n",
       "  <thead>\n",
       "    <tr style=\"text-align: right;\">\n",
       "      <th></th>\n",
       "      <th>Earnings Growth %</th>\n",
       "      <th>PE in 10 years</th>\n",
       "      <th>PE Growth</th>\n",
       "      <th>TotalReturn</th>\n",
       "      <th>TsyYield</th>\n",
       "      <th>TotReturn - TsyYield</th>\n",
       "    </tr>\n",
       "  </thead>\n",
       "  <tbody>\n",
       "    <tr>\n",
       "      <th>0</th>\n",
       "      <td>0.05</td>\n",
       "      <td>30.00</td>\n",
       "      <td>0.014608</td>\n",
       "      <td>0.079708</td>\n",
       "      <td>0.0405</td>\n",
       "      <td>0.039208</td>\n",
       "    </tr>\n",
       "    <tr>\n",
       "      <th>1</th>\n",
       "      <td>0.05</td>\n",
       "      <td>25.95</td>\n",
       "      <td>0.000000</td>\n",
       "      <td>0.065100</td>\n",
       "      <td>0.0405</td>\n",
       "      <td>0.024600</td>\n",
       "    </tr>\n",
       "    <tr>\n",
       "      <th>2</th>\n",
       "      <td>0.05</td>\n",
       "      <td>20.00</td>\n",
       "      <td>-0.025708</td>\n",
       "      <td>0.039392</td>\n",
       "      <td>0.0405</td>\n",
       "      <td>-0.001108</td>\n",
       "    </tr>\n",
       "    <tr>\n",
       "      <th>3</th>\n",
       "      <td>0.05</td>\n",
       "      <td>15.00</td>\n",
       "      <td>-0.053337</td>\n",
       "      <td>0.011763</td>\n",
       "      <td>0.0405</td>\n",
       "      <td>-0.028737</td>\n",
       "    </tr>\n",
       "  </tbody>\n",
       "</table>\n",
       "</div>"
      ],
      "text/plain": [
       "   Earnings Growth %  PE in 10 years  PE Growth  TotalReturn  TsyYield  \\\n",
       "0               0.05           30.00   0.014608     0.079708    0.0405   \n",
       "1               0.05           25.95   0.000000     0.065100    0.0405   \n",
       "2               0.05           20.00  -0.025708     0.039392    0.0405   \n",
       "3               0.05           15.00  -0.053337     0.011763    0.0405   \n",
       "\n",
       "   TotReturn - TsyYield  \n",
       "0              0.039208  \n",
       "1              0.024600  \n",
       "2             -0.001108  \n",
       "3             -0.028737  "
      ]
     },
     "execution_count": 67,
     "metadata": {},
     "output_type": "execute_result"
    }
   ],
   "source": [
    "mm.calcBogle(sp500_df,8,2023,[30,25.95,20,15])"
   ]
  },
  {
   "cell_type": "code",
   "execution_count": null,
   "id": "38511ab6",
   "metadata": {},
   "outputs": [],
   "source": []
  }
 ],
 "metadata": {
  "kernelspec": {
   "display_name": "Python 3 (ipykernel)",
   "language": "python",
   "name": "python3"
  },
  "language_info": {
   "codemirror_mode": {
    "name": "ipython",
    "version": 3
   },
   "file_extension": ".py",
   "mimetype": "text/x-python",
   "name": "python",
   "nbconvert_exporter": "python",
   "pygments_lexer": "ipython3",
   "version": "3.10.9"
  }
 },
 "nbformat": 4,
 "nbformat_minor": 5
}
